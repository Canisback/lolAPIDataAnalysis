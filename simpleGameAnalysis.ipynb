{
 "cells": [
  {
   "cell_type": "markdown",
   "metadata": {},
   "source": [
    "First import pantheon and asyncio, and initiate a Pantheon instance"
   ]
  },
  {
   "cell_type": "code",
   "execution_count": 1,
   "metadata": {
    "collapsed": true
   },
   "outputs": [],
   "source": [
    "from pantheon import pantheon\n",
    "import asyncio\n",
    "\n",
    "server = \"euw1\"\n",
    "api_key = \"RGAPI-XXXX\"\n",
    "\n",
    "panth = pantheon.Pantheon(server, api_key, True)"
   ]
  },
  {
   "cell_type": "markdown",
   "metadata": {},
   "source": [
    "Create the function to get game data"
   ]
  },
  {
   "cell_type": "code",
   "execution_count": 2,
   "metadata": {
    "collapsed": true
   },
   "outputs": [],
   "source": [
    "\n",
    "async def getSummonerId(name):\n",
    "    try:\n",
    "        data = await panth.getSummonerByName(name)\n",
    "        return (data['id'],data['accountId'])\n",
    "    except Exception as e:\n",
    "        print(e)\n",
    "\n",
    "\n",
    "async def getRecentMatchlist(accountId):\n",
    "    try:\n",
    "        data = await panth.getMatchlist(accountId, params={\"endIndex\":10})\n",
    "        return data\n",
    "    except Exception as e:\n",
    "        print(e)\n",
    "\n",
    "async def getRecentMatches(accountId):\n",
    "    try:\n",
    "        matchlist = await getRecentMatchlist(accountId)\n",
    "        tasks = [panth.getMatch(match['gameId']) for match in matchlist['matches']]\n",
    "        return await asyncio.gather(*tasks)\n",
    "    except Exception as e:\n",
    "        print(e)"
   ]
  },
  {
   "cell_type": "markdown",
   "metadata": {},
   "source": [
    "Get you games data"
   ]
  },
  {
   "cell_type": "code",
   "execution_count": 3,
   "metadata": {},
   "outputs": [
    {
     "name": "stdout",
     "output_type": "stream",
     "text": [
      "{'mapId': 11, 'participants': [{'timeline': {'role': 'DUO_CARRY', 'goldPerMinDeltas': {'10-20': 269.7, '0-10': 186.9}, 'xpPerMinDeltas': {'10-20': 289.9, '0-10': 241.8}, 'lane': 'BOTTOM', 'csDiffPerMinDeltas': {'10-20': -2.4, '0-10': -2.8000000000000007}, 'creepsPerMinDeltas': {'10-20': 5.3, '0-10': 4}, 'damageTakenPerMinDeltas': {'10-20': 484.8, '0-10': 271.6}, 'damageTakenDiffPerMinDeltas': {'10-20': 48.150000000000006, '0-10': -9.549999999999997}, 'participantId': 1, 'xpDiffPerMinDeltas': {'10-20': -273.49999999999994, '0-10': -28.64999999999995}}, 'highestAchievedSeasonTier': 'SILVER', 'stats': {'damageDealtToObjectives': 1258, 'totalScoreRank': 0, 'combatPlayerScore': 0, 'totalUnitsHealed': 2, 'perk1Var2': 0, 'largestKillingSpree': 0, 'perkSubStyle': 8100, 'trueDamageDealt': 1680, 'perk5Var1': 1, 'visionScore': 5, 'neutralMinionsKilled': 4, 'damageSelfMitigated': 7288, 'playerScore7': 0, 'totalPlayerScore': 0, 'firstTowerKill': False, 'largestMultiKill': 1, 'magicalDamageTaken': 5578, 'goldEarned': 6505, 'perk5Var2': 0, 'unrealKills': 0, 'firstBloodKill': False, 'playerScore2': 0, 'playerScore8': 0, 'inhibitorKills': 0, 'playerScore6': 0, 'assists': 0, 'timeCCingOthers': 0, 'item2': 1055, 'firstBloodAssist': False, 'turretKills': 0, 'totalDamageDealt': 54782, 'killingSprees': 0, 'trueDamageTaken': 30, 'quadraKills': 0, 'perk1': 9111, 'damageDealtToTurrets': 1258, 'playerScore4': 0, 'perk2Var1': 0, 'perk4Var3': 0, 'perk3': 8014, 'perkPrimaryStyle': 8000, 'physicalDamageDealtToChampions': 6829, 'totalTimeCrowdControlDealt': 0, 'perk4Var2': 0, 'firstTowerAssist': False, 'doubleKills': 0, 'kills': 1, 'neutralMinionsKilledTeamJungle': 4, 'perk0Var3': 266, 'perk0': 8005, 'largestCriticalStrike': 248, 'physicalDamageTaken': 10733, 'perk1Var1': 10, 'playerScore9': 0, 'playerScore3': 0, 'objectivePlayerScore': 0, 'perk4': 8143, 'wardsPlaced': 4, 'item3': 2015, 'perk1Var3': 0, 'pentaKills': 0, 'perk2Var2': 0, 'magicDamageDealt': 2869, 'perk2Var3': 0, 'perk3Var2': 0, 'perk0Var2': 675, 'totalHeal': 945, 'perk3Var1': 91, 'magicDamageDealtToChampions': 288, 'totalDamageTaken': 16342, 'item5': 0, 'longestTimeSpentLiving': 748, 'neutralMinionsKilledEnemyJungle': 0, 'firstInhibitorKill': False, 'physicalDamageDealt': 50233, 'participantId': 1, 'playerScore5': 0, 'perk3Var3': 0, 'playerScore0': 0, 'win': False, 'visionWardsBoughtInGame': 1, 'champLevel': 10, 'perk0Var1': 941, 'playerScore1': 0, 'perk4Var1': 158, 'sightWardsBoughtInGame': 0, 'totalDamageDealtToChampions': 7118, 'firstInhibitorAssist': False, 'item1': 3508, 'perk5Var3': 0, 'totalMinionsKilled': 97, 'item4': 1042, 'goldSpent': 6225, 'tripleKills': 0, 'trueDamageDealtToChampions': 0, 'deaths': 7, 'perk5': 8105, 'item0': 3006, 'perk2': 9103, 'wardsKilled': 1, 'item6': 3340}, 'championId': 236, 'teamId': 100, 'participantId': 1, 'spell1Id': 4, 'spell2Id': 7}, {'timeline': {'goldPerMinDeltas': {'10-20': 504.8, '0-10': 363.7}, 'xpPerMinDeltas': {'10-20': 632.5, '0-10': 467.2}, 'lane': 'JUNGLE', 'creepsPerMinDeltas': {'10-20': 8.5, '0-10': 6}, 'role': 'NONE', 'participantId': 2, 'damageTakenPerMinDeltas': {'10-20': 1186.4, '0-10': 480}}, 'highestAchievedSeasonTier': 'SILVER', 'stats': {'damageDealtToObjectives': 9165, 'totalScoreRank': 0, 'combatPlayerScore': 0, 'totalUnitsHealed': 1, 'perk1Var2': 0, 'largestKillingSpree': 5, 'perkSubStyle': 8400, 'trueDamageDealt': 5398, 'perk5Var1': 0, 'visionScore': 14, 'neutralMinionsKilled': 8, 'damageSelfMitigated': 22489, 'playerScore7': 0, 'totalPlayerScore': 0, 'firstTowerKill': False, 'largestMultiKill': 1, 'magicalDamageTaken': 3478, 'goldEarned': 10590, 'perk5Var2': 0, 'unrealKills': 0, 'firstBloodKill': True, 'playerScore2': 0, 'playerScore8': 0, 'inhibitorKills': 1, 'playerScore6': 0, 'assists': 2, 'timeCCingOthers': 28, 'item2': 3047, 'firstBloodAssist': False, 'turretKills': 2, 'totalDamageDealt': 125655, 'killingSprees': 1, 'trueDamageTaken': 1221, 'quadraKills': 0, 'perk1': 9111, 'damageDealtToTurrets': 7877, 'playerScore4': 0, 'perk2Var1': 12, 'perk4Var3': 0, 'perk3': 8014, 'perkPrimaryStyle': 8000, 'physicalDamageDealtToChampions': 14455, 'totalTimeCrowdControlDealt': 271, 'perk4Var2': 0, 'firstTowerAssist': False, 'doubleKills': 0, 'kills': 7, 'neutralMinionsKilledTeamJungle': 0, 'perk0Var3': 0, 'perk0': 8010, 'largestCriticalStrike': 0, 'physicalDamageTaken': 16665, 'perk1Var1': 789, 'playerScore9': 0, 'playerScore3': 0, 'objectivePlayerScore': 0, 'perk4': 8473, 'wardsPlaced': 10, 'item3': 1028, 'perk1Var3': 0, 'pentaKills': 0, 'perk2Var2': 20, 'magicDamageDealt': 0, 'perk2Var3': 0, 'perk3Var2': 0, 'perk0Var2': 0, 'totalHeal': 3079, 'perk3Var1': 260, 'magicDamageDealtToChampions': 0, 'totalDamageTaken': 21365, 'item5': 3057, 'longestTimeSpentLiving': 686, 'neutralMinionsKilledEnemyJungle': 5, 'firstInhibitorKill': False, 'physicalDamageDealt': 120256, 'participantId': 2, 'playerScore5': 0, 'perk3Var3': 0, 'playerScore0': 0, 'win': False, 'visionWardsBoughtInGame': 0, 'champLevel': 14, 'perk0Var1': 1646, 'playerScore1': 0, 'perk4Var1': 871, 'sightWardsBoughtInGame': 0, 'totalDamageDealtToChampions': 18344, 'firstInhibitorAssist': False, 'item1': 3074, 'perk5Var3': 0, 'totalMinionsKilled': 155, 'item4': 1043, 'goldSpent': 9900, 'tripleKills': 0, 'trueDamageDealtToChampions': 3888, 'deaths': 6, 'perk5': 8472, 'item0': 3110, 'perk2': 9105, 'wardsKilled': 0, 'item6': 3340}, 'championId': 77, 'teamId': 100, 'participantId': 2, 'spell1Id': 14, 'spell2Id': 4}, {'timeline': {'goldPerMinDeltas': {'10-20': 204.4, '0-10': 238}, 'xpPerMinDeltas': {'10-20': 196.60000000000002, '0-10': 465}, 'lane': 'MIDDLE', 'creepsPerMinDeltas': {'10-20': 2.6, '0-10': 5.1}, 'role': 'SOLO', 'participantId': 3, 'damageTakenPerMinDeltas': {'10-20': 954.1, '0-10': 268.2}}, 'highestAchievedSeasonTier': 'UNRANKED', 'stats': {'damageDealtToObjectives': 193, 'totalScoreRank': 0, 'combatPlayerScore': 0, 'totalUnitsHealed': 1, 'perk1Var2': 0, 'largestKillingSpree': 2, 'perkSubStyle': 8200, 'trueDamageDealt': 874, 'perk5Var1': 0, 'visionScore': 9, 'neutralMinionsKilled': 8, 'damageSelfMitigated': 8991, 'playerScore7': 0, 'totalPlayerScore': 0, 'firstTowerKill': False, 'largestMultiKill': 1, 'magicalDamageTaken': 6464, 'goldEarned': 7125, 'perk5Var2': 0, 'unrealKills': 0, 'firstBloodKill': False, 'playerScore2': 0, 'playerScore8': 0, 'inhibitorKills': 0, 'playerScore6': 0, 'assists': 0, 'timeCCingOthers': 9, 'item2': 3020, 'firstBloodAssist': False, 'turretKills': 0, 'totalDamageDealt': 63788, 'killingSprees': 1, 'trueDamageTaken': 348, 'quadraKills': 0, 'perk1': 8143, 'damageDealtToTurrets': 193, 'playerScore4': 0, 'perk2Var1': 8, 'perk4Var3': 0, 'perk3': 8134, 'perkPrimaryStyle': 8100, 'physicalDamageDealtToChampions': 1219, 'totalTimeCrowdControlDealt': 24, 'perk4Var2': 0, 'firstTowerAssist': False, 'doubleKills': 0, 'kills': 4, 'neutralMinionsKilledTeamJungle': 8, 'perk0Var3': 0, 'perk0': 8112, 'largestCriticalStrike': 532, 'physicalDamageTaken': 13687, 'perk1Var1': 719, 'playerScore9': 0, 'playerScore3': 0, 'objectivePlayerScore': 0, 'perk4': 8243, 'wardsPlaced': 8, 'item3': 1052, 'perk1Var3': 0, 'pentaKills': 0, 'perk2Var2': 0, 'magicDamageDealt': 48588, 'perk2Var3': 0, 'perk3Var2': 0, 'perk0Var2': 0, 'totalHeal': 866, 'perk3Var1': 3, 'magicDamageDealtToChampions': 12337, 'totalDamageTaken': 20499, 'item5': 0, 'longestTimeSpentLiving': 630, 'neutralMinionsKilledEnemyJungle': 0, 'firstInhibitorKill': False, 'physicalDamageDealt': 14326, 'participantId': 3, 'playerScore5': 0, 'perk3Var3': 0, 'playerScore0': 0, 'win': False, 'visionWardsBoughtInGame': 0, 'champLevel': 12, 'perk0Var1': 1538, 'playerScore1': 0, 'perk4Var1': 15, 'sightWardsBoughtInGame': 0, 'totalDamageDealtToChampions': 14430, 'firstInhibitorAssist': False, 'item1': 3285, 'perk5Var3': 0, 'totalMinionsKilled': 85, 'item4': 1026, 'goldSpent': 6335, 'tripleKills': 0, 'trueDamageDealtToChampions': 874, 'deaths': 8, 'perk5': 8210, 'item0': 1056, 'perk2': 8138, 'wardsKilled': 0, 'item6': 3340}, 'championId': 7, 'teamId': 100, 'participantId': 3, 'spell1Id': 14, 'spell2Id': 4}, {'timeline': {'role': 'DUO_SUPPORT', 'goldPerMinDeltas': {'10-20': 248.10000000000002, '0-10': 160.8}, 'xpPerMinDeltas': {'10-20': 270.1, '0-10': 288.9}, 'lane': 'BOTTOM', 'csDiffPerMinDeltas': {'10-20': -2.4, '0-10': -2.8000000000000007}, 'creepsPerMinDeltas': {'10-20': 1, '0-10': 0.6}, 'damageTakenPerMinDeltas': {'10-20': 721.5, '0-10': 166.3}, 'damageTakenDiffPerMinDeltas': {'10-20': 48.150000000000006, '0-10': -9.549999999999997}, 'participantId': 4, 'xpDiffPerMinDeltas': {'10-20': -273.49999999999994, '0-10': -28.64999999999995}}, 'highestAchievedSeasonTier': 'SILVER', 'stats': {'damageDealtToObjectives': 661, 'totalScoreRank': 0, 'combatPlayerScore': 0, 'totalUnitsHealed': 4, 'perk1Var2': 0, 'largestKillingSpree': 0, 'perkSubStyle': 8300, 'trueDamageDealt': 1805, 'perk5Var1': 0, 'visionScore': 16, 'neutralMinionsKilled': 0, 'damageSelfMitigated': 22251, 'playerScore7': 0, 'totalPlayerScore': 0, 'firstTowerKill': False, 'largestMultiKill': 0, 'magicalDamageTaken': 9358, 'goldEarned': 5964, 'perk5Var2': 0, 'unrealKills': 0, 'firstBloodKill': False, 'playerScore2': 0, 'playerScore8': 0, 'inhibitorKills': 0, 'playerScore6': 0, 'assists': 4, 'timeCCingOthers': 20, 'item2': 3742, 'firstBloodAssist': False, 'turretKills': 0, 'totalDamageDealt': 17223, 'killingSprees': 0, 'trueDamageTaken': 78, 'quadraKills': 0, 'perk1': 8446, 'damageDealtToTurrets': 661, 'playerScore4': 0, 'perk2Var1': 59, 'perk4Var3': 0, 'perk3': 8451, 'perkPrimaryStyle': 8400, 'physicalDamageDealtToChampions': 1861, 'totalTimeCrowdControlDealt': 79, 'perk4Var2': 0, 'firstTowerAssist': False, 'doubleKills': 0, 'kills': 0, 'neutralMinionsKilledTeamJungle': 0, 'perk0Var3': 0, 'perk0': 8465, 'largestCriticalStrike': 0, 'physicalDamageTaken': 10133, 'perk1Var1': 295, 'playerScore9': 0, 'playerScore3': 0, 'objectivePlayerScore': 0, 'perk4': 8321, 'wardsPlaced': 12, 'item3': 1028, 'perk1Var3': 0, 'pentaKills': 0, 'perk2Var2': 16, 'magicDamageDealt': 8027, 'perk2Var3': 10, 'perk3Var2': 0, 'perk0Var2': 0, 'totalHeal': 1365, 'perk3Var1': 118, 'magicDamageDealtToChampions': 1952, 'totalDamageTaken': 19569, 'item5': 0, 'longestTimeSpentLiving': 806, 'neutralMinionsKilledEnemyJungle': 0, 'firstInhibitorKill': False, 'physicalDamageDealt': 7391, 'participantId': 4, 'playerScore5': 0, 'perk3Var3': 0, 'playerScore0': 0, 'win': False, 'visionWardsBoughtInGame': 0, 'champLevel': 11, 'perk0Var1': 1969, 'playerScore1': 0, 'perk4Var1': 4, 'sightWardsBoughtInGame': 0, 'totalDamageDealtToChampions': 3814, 'firstInhibitorAssist': False, 'item1': 3047, 'perk5Var3': 0, 'totalMinionsKilled': 20, 'item4': 0, 'goldSpent': 5900, 'tripleKills': 0, 'trueDamageDealtToChampions': 0, 'deaths': 4, 'perk5': 8347, 'item0': 3069, 'perk2': 8429, 'wardsKilled': 0, 'item6': 3340}, 'championId': 497, 'teamId': 100, 'participantId': 4, 'spell1Id': 4, 'spell2Id': 3}, {'timeline': {'goldPerMinDeltas': {'10-20': 384.9, '0-10': 259}, 'xpPerMinDeltas': {'10-20': 484.59999999999997, '0-10': 295.20000000000005}, 'lane': 'JUNGLE', 'creepsPerMinDeltas': {'10-20': 2.7, '0-10': 0}, 'role': 'NONE', 'participantId': 5, 'damageTakenPerMinDeltas': {'10-20': 1241.5, '0-10': 707.8}}, 'highestAchievedSeasonTier': 'GOLD', 'stats': {'damageDealtToObjectives': 3028, 'totalScoreRank': 0, 'combatPlayerScore': 0, 'totalUnitsHealed': 1, 'perk1Var2': 0, 'largestKillingSpree': 3, 'perkSubStyle': 8000, 'trueDamageDealt': 5931, 'perk5Var1': 16, 'visionScore': 9, 'neutralMinionsKilled': 76, 'damageSelfMitigated': 22231, 'playerScore7': 0, 'totalPlayerScore': 0, 'firstTowerKill': False, 'largestMultiKill': 1, 'magicalDamageTaken': 4894, 'goldEarned': 8524, 'perk5Var2': 20, 'unrealKills': 0, 'firstBloodKill': False, 'playerScore2': 0, 'playerScore8': 0, 'inhibitorKills': 0, 'playerScore6': 0, 'assists': 3, 'timeCCingOthers': 16, 'item2': 3025, 'firstBloodAssist': False, 'turretKills': 0, 'totalDamageDealt': 109223, 'killingSprees': 1, 'trueDamageTaken': 1037, 'quadraKills': 0, 'perk1': 8473, 'damageDealtToTurrets': 0, 'playerScore4': 0, 'perk2Var1': 513, 'perk4Var3': 0, 'perk3': 8453, 'perkPrimaryStyle': 8400, 'physicalDamageDealtToChampions': 1601, 'totalTimeCrowdControlDealt': 992, 'perk4Var2': 0, 'firstTowerAssist': False, 'doubleKills': 0, 'kills': 4, 'neutralMinionsKilledTeamJungle': 58, 'perk0Var3': 0, 'perk0': 8439, 'largestCriticalStrike': 423, 'physicalDamageTaken': 18848, 'perk1Var1': 863, 'playerScore9': 0, 'playerScore3': 0, 'objectivePlayerScore': 0, 'perk4': 9111, 'wardsPlaced': 6, 'item3': 3010, 'perk1Var3': 0, 'pentaKills': 0, 'perk2Var2': 0, 'magicDamageDealt': 77410, 'perk2Var3': 0, 'perk3Var2': 33, 'perk0Var2': 0, 'totalHeal': 9438, 'perk3Var1': 641, 'magicDamageDealtToChampions': 4822, 'totalDamageTaken': 24780, 'item5': 0, 'longestTimeSpentLiving': 557, 'neutralMinionsKilledEnemyJungle': 1, 'firstInhibitorKill': False, 'physicalDamageDealt': 25882, 'participantId': 5, 'playerScore5': 0, 'perk3Var3': 0, 'playerScore0': 0, 'win': False, 'visionWardsBoughtInGame': 0, 'champLevel': 13, 'perk0Var1': 231, 'playerScore1': 0, 'perk4Var1': 117, 'sightWardsBoughtInGame': 0, 'totalDamageDealtToChampions': 7111, 'firstInhibitorAssist': False, 'item1': 3158, 'perk5Var3': 0, 'totalMinionsKilled': 45, 'item4': 1057, 'goldSpent': 8245, 'tripleKills': 0, 'trueDamageDealtToChampions': 688, 'deaths': 7, 'perk5': 9105, 'item0': 1402, 'perk2': 8444, 'wardsKilled': 0, 'item6': 3340}, 'championId': 79, 'teamId': 100, 'participantId': 5, 'spell1Id': 4, 'spell2Id': 11}, {'timeline': {'role': 'DUO_CARRY', 'goldPerMinDeltas': {'10-20': 652.5999999999999, '0-10': 285.29999999999995}, 'xpPerMinDeltas': {'10-20': 569.4, '0-10': 318.29999999999995}, 'lane': 'BOTTOM', 'csDiffPerMinDeltas': {'10-20': 2.4, '0-10': 2.8000000000000007}, 'creepsPerMinDeltas': {'10-20': 7.9, '0-10': 8.5}, 'damageTakenPerMinDeltas': {'10-20': 633.2, '0-10': 242.10000000000002}, 'damageTakenDiffPerMinDeltas': {'10-20': -48.150000000000006, '0-10': 9.549999999999997}, 'participantId': 6, 'xpDiffPerMinDeltas': {'10-20': 273.49999999999994, '0-10': 28.64999999999995}}, 'highestAchievedSeasonTier': 'DIAMOND', 'stats': {'damageDealtToObjectives': 26660, 'totalScoreRank': 0, 'combatPlayerScore': 0, 'totalUnitsHealed': 3, 'perk1Var2': 1788, 'largestKillingSpree': 12, 'perkSubStyle': 8200, 'trueDamageDealt': 4546, 'perk5Var1': 14, 'visionScore': 12, 'neutralMinionsKilled': 32, 'damageSelfMitigated': 7921, 'playerScore7': 0, 'totalPlayerScore': 0, 'firstTowerKill': False, 'largestMultiKill': 2, 'magicalDamageTaken': 4192, 'goldEarned': 14132, 'perk5Var2': 0, 'unrealKills': 0, 'firstBloodKill': False, 'playerScore2': 0, 'playerScore8': 0, 'inhibitorKills': 0, 'playerScore6': 0, 'assists': 11, 'timeCCingOthers': 31, 'item2': 3006, 'firstBloodAssist': False, 'turretKills': 4, 'totalDamageDealt': 175495, 'killingSprees': 1, 'trueDamageTaken': 415, 'quadraKills': 0, 'perk1': 9101, 'damageDealtToTurrets': 9228, 'playerScore4': 0, 'perk2Var1': 13, 'perk4Var3': 0, 'perk3': 8014, 'perkPrimaryStyle': 8000, 'physicalDamageDealtToChampions': 29818, 'totalTimeCrowdControlDealt': 373, 'perk4Var2': 0, 'firstTowerAssist': True, 'doubleKills': 2, 'kills': 12, 'neutralMinionsKilledTeamJungle': 12, 'perk0Var3': 0, 'perk0': 8021, 'largestCriticalStrike': 1813, 'physicalDamageTaken': 9194, 'perk1Var1': 1512, 'playerScore9': 0, 'playerScore3': 0, 'objectivePlayerScore': 0, 'perk4': 8234, 'wardsPlaced': 8, 'item3': 3031, 'perk1Var3': 0, 'pentaKills': 0, 'perk2Var2': 0, 'magicDamageDealt': 9857, 'perk2Var3': 0, 'perk3Var2': 0, 'perk0Var2': 0, 'totalHeal': 5045, 'perk3Var1': 604, 'magicDamageDealtToChampions': 3803, 'totalDamageTaken': 13803, 'item5': 3087, 'longestTimeSpentLiving': 0, 'neutralMinionsKilledEnemyJungle': 4, 'firstInhibitorKill': False, 'physicalDamageDealt': 161092, 'participantId': 6, 'playerScore5': 0, 'perk3Var3': 0, 'playerScore0': 0, 'win': True, 'visionWardsBoughtInGame': 0, 'champLevel': 14, 'perk0Var1': 3477, 'playerScore1': 0, 'perk4Var1': 18, 'sightWardsBoughtInGame': 0, 'totalDamageDealtToChampions': 34490, 'firstInhibitorAssist': True, 'item1': 1053, 'perk5Var3': 0, 'totalMinionsKilled': 185, 'item4': 3094, 'goldSpent': 12550, 'tripleKills': 0, 'trueDamageDealtToChampions': 868, 'deaths': 0, 'perk5': 8236, 'item0': 1038, 'perk2': 9104, 'wardsKilled': 1, 'item6': 3340}, 'championId': 51, 'teamId': 200, 'participantId': 6, 'spell1Id': 4, 'spell2Id': 7}, {'timeline': {'goldPerMinDeltas': {'10-20': 453.2, '0-10': 199.7}, 'xpPerMinDeltas': {'10-20': 582.8, '0-10': 334.7}, 'lane': 'MIDDLE', 'creepsPerMinDeltas': {'10-20': 6.6, '0-10': 4.5}, 'role': 'DUO', 'participantId': 7, 'damageTakenPerMinDeltas': {'10-20': 925.7, '0-10': 582.3}}, 'highestAchievedSeasonTier': 'UNRANKED', 'stats': {'damageDealtToObjectives': 6291, 'totalScoreRank': 0, 'combatPlayerScore': 0, 'totalUnitsHealed': 1, 'perk1Var2': 0, 'largestKillingSpree': 3, 'perkSubStyle': 8200, 'trueDamageDealt': 2869, 'perk5Var1': 0, 'visionScore': 9, 'neutralMinionsKilled': 8, 'damageSelfMitigated': 28208, 'playerScore7': 0, 'totalPlayerScore': 0, 'firstTowerKill': False, 'largestMultiKill': 2, 'magicalDamageTaken': 5755, 'goldEarned': 9651, 'perk5Var2': 0, 'unrealKills': 0, 'firstBloodKill': False, 'playerScore2': 0, 'playerScore8': 0, 'inhibitorKills': 0, 'playerScore6': 0, 'assists': 6, 'timeCCingOthers': 33, 'item2': 3053, 'firstBloodAssist': False, 'turretKills': 2, 'totalDamageDealt': 95688, 'killingSprees': 2, 'trueDamageTaken': 2624, 'quadraKills': 0, 'perk1': 8446, 'damageDealtToTurrets': 5627, 'playerScore4': 0, 'perk2Var1': 59, 'perk4Var3': 0, 'perk3': 8451, 'perkPrimaryStyle': 8400, 'physicalDamageDealtToChampions': 8706, 'totalTimeCrowdControlDealt': 90, 'perk4Var2': 0, 'firstTowerAssist': False, 'doubleKills': 1, 'kills': 5, 'neutralMinionsKilledTeamJungle': 1, 'perk0Var3': 0, 'perk0': 8437, 'largestCriticalStrike': 0, 'physicalDamageTaken': 15828, 'perk1Var1': 1987, 'playerScore9': 0, 'playerScore3': 0, 'objectivePlayerScore': 0, 'perk4': 8243, 'wardsPlaced': 7, 'item3': 3083, 'perk1Var3': 0, 'pentaKills': 0, 'perk2Var2': 17, 'magicDamageDealt': 29326, 'perk2Var3': 12, 'perk3Var2': 0, 'perk0Var2': 942, 'totalHeal': 1379, 'perk3Var1': 253, 'magicDamageDealtToChampions': 4527, 'totalDamageTaken': 24209, 'item5': 0, 'longestTimeSpentLiving': 355, 'neutralMinionsKilledEnemyJungle': 0, 'firstInhibitorKill': False, 'physicalDamageDealt': 63493, 'participantId': 7, 'playerScore5': 0, 'perk3Var3': 0, 'playerScore0': 0, 'win': True, 'visionWardsBoughtInGame': 0, 'champLevel': 14, 'perk0Var1': 1285, 'playerScore1': 0, 'perk4Var1': 15, 'sightWardsBoughtInGame': 0, 'totalDamageDealtToChampions': 14593, 'firstInhibitorAssist': True, 'item1': 3068, 'perk5Var3': 0, 'totalMinionsKilled': 137, 'item4': 0, 'goldSpent': 9350, 'tripleKills': 0, 'trueDamageDealtToChampions': 1359, 'deaths': 7, 'perk5': 8210, 'item0': 1001, 'perk2': 8429, 'wardsKilled': 0, 'item6': 3340}, 'championId': 86, 'teamId': 200, 'participantId': 7, 'spell1Id': 4, 'spell2Id': 12}, {'timeline': {'role': 'DUO_SUPPORT', 'goldPerMinDeltas': {'10-20': 444.7, '0-10': 190.8}, 'xpPerMinDeltas': {'10-20': 537.5999999999999, '0-10': 269.7}, 'lane': 'BOTTOM', 'csDiffPerMinDeltas': {'10-20': 2.4, '0-10': 2.8000000000000007}, 'creepsPerMinDeltas': {'10-20': 3.1999999999999997, '0-10': 1.7000000000000002}, 'damageTakenPerMinDeltas': {'10-20': 476.8, '0-10': 214.9}, 'damageTakenDiffPerMinDeltas': {'10-20': -48.150000000000006, '0-10': 9.549999999999997}, 'participantId': 8, 'xpDiffPerMinDeltas': {'10-20': 273.49999999999994, '0-10': 28.64999999999995}}, 'highestAchievedSeasonTier': 'UNRANKED', 'stats': {'damageDealtToObjectives': 3893, 'totalScoreRank': 0, 'combatPlayerScore': 0, 'totalUnitsHealed': 5, 'perk1Var2': 0, 'largestKillingSpree': 2, 'perkSubStyle': 8300, 'trueDamageDealt': 6183, 'perk5Var1': 0, 'visionScore': 29, 'neutralMinionsKilled': 0, 'damageSelfMitigated': 12863, 'playerScore7': 0, 'totalPlayerScore': 0, 'firstTowerKill': False, 'largestMultiKill': 2, 'magicalDamageTaken': 2748, 'goldEarned': 9140, 'perk5Var2': 0, 'unrealKills': 0, 'firstBloodKill': False, 'playerScore2': 0, 'playerScore8': 0, 'inhibitorKills': 0, 'playerScore6': 0, 'assists': 15, 'timeCCingOthers': 38, 'item2': 3050, 'firstBloodAssist': False, 'turretKills': 1, 'totalDamageDealt': 29666, 'killingSprees': 2, 'trueDamageTaken': 208, 'quadraKills': 0, 'perk1': 8473, 'damageDealtToTurrets': 1872, 'playerScore4': 0, 'perk2Var1': 528, 'perk4Var3': 0, 'perk3': 8451, 'perkPrimaryStyle': 8400, 'physicalDamageDealtToChampions': 2717, 'totalTimeCrowdControlDealt': 121, 'perk4Var2': 0, 'firstTowerAssist': False, 'doubleKills': 1, 'kills': 4, 'neutralMinionsKilledTeamJungle': 0, 'perk0Var3': 0, 'perk0': 8439, 'largestCriticalStrike': 0, 'physicalDamageTaken': 8803, 'perk1Var1': 606, 'playerScore9': 0, 'playerScore3': 0, 'objectivePlayerScore': 0, 'perk4': 8313, 'wardsPlaced': 12, 'item3': 3111, 'perk1Var3': 0, 'pentaKills': 0, 'perk2Var2': 0, 'magicDamageDealt': 10990, 'perk2Var3': 0, 'perk3Var2': 0, 'perk0Var2': 0, 'totalHeal': 2765, 'perk3Var1': 133, 'magicDamageDealtToChampions': 3842, 'totalDamageTaken': 11760, 'item5': 0, 'longestTimeSpentLiving': 987, 'neutralMinionsKilledEnemyJungle': 0, 'firstInhibitorKill': False, 'physicalDamageDealt': 12492, 'participantId': 8, 'playerScore5': 0, 'perk3Var3': 0, 'playerScore0': 0, 'win': True, 'visionWardsBoughtInGame': 0, 'champLevel': 13, 'perk0Var1': 589, 'playerScore1': 0, 'perk4Var1': 0, 'sightWardsBoughtInGame': 0, 'totalDamageDealtToChampions': 6559, 'firstInhibitorAssist': False, 'item1': 3401, 'perk5Var3': 0, 'totalMinionsKilled': 51, 'item4': 3025, 'goldSpent': 8000, 'tripleKills': 0, 'trueDamageDealtToChampions': 0, 'deaths': 2, 'perk5': 8347, 'item0': 2423, 'perk2': 8444, 'wardsKilled': 4, 'item6': 3364}, 'championId': 89, 'teamId': 200, 'participantId': 8, 'spell1Id': 3, 'spell2Id': 4}, {'timeline': {'goldPerMinDeltas': {'10-20': 568.8, '0-10': 238.5}, 'xpPerMinDeltas': {'10-20': 570.7, '0-10': 413.2}, 'lane': 'MIDDLE', 'creepsPerMinDeltas': {'10-20': 5.5, '0-10': 7.4}, 'role': 'DUO', 'participantId': 9, 'damageTakenPerMinDeltas': {'10-20': 643.1, '0-10': 319.5}}, 'highestAchievedSeasonTier': 'SILVER', 'stats': {'damageDealtToObjectives': 1649, 'totalScoreRank': 0, 'combatPlayerScore': 0, 'totalUnitsHealed': 2, 'perk1Var2': 678, 'largestKillingSpree': 6, 'perkSubStyle': 8100, 'trueDamageDealt': 6150, 'perk5Var1': 5, 'visionScore': 18, 'neutralMinionsKilled': 8, 'damageSelfMitigated': 7315, 'playerScore7': 0, 'totalPlayerScore': 0, 'firstTowerKill': False, 'largestMultiKill': 1, 'magicalDamageTaken': 6934, 'goldEarned': 10594, 'perk5Var2': 0, 'unrealKills': 0, 'firstBloodKill': False, 'playerScore2': 0, 'playerScore8': 0, 'inhibitorKills': 0, 'playerScore6': 0, 'assists': 10, 'timeCCingOthers': 22, 'item2': 2033, 'firstBloodAssist': False, 'turretKills': 0, 'totalDamageDealt': 81445, 'killingSprees': 1, 'trueDamageTaken': 1645, 'quadraKills': 0, 'perk1': 8226, 'damageDealtToTurrets': 1649, 'playerScore4': 0, 'perk2Var1': 19, 'perk4Var3': 0, 'perk3': 8237, 'perkPrimaryStyle': 8200, 'physicalDamageDealtToChampions': 833, 'totalTimeCrowdControlDealt': 2255, 'perk4Var2': 0, 'firstTowerAssist': False, 'doubleKills': 0, 'kills': 7, 'neutralMinionsKilledTeamJungle': 0, 'perk0Var3': 0, 'perk0': 8230, 'largestCriticalStrike': 0, 'physicalDamageTaken': 9855, 'perk1Var1': 250, 'playerScore9': 0, 'playerScore3': 0, 'objectivePlayerScore': 0, 'perk4': 8139, 'wardsPlaced': 9, 'item3': 2055, 'perk1Var3': 0, 'pentaKills': 0, 'perk2Var2': 0, 'magicDamageDealt': 63960, 'perk2Var3': 0, 'perk3Var2': 0, 'perk0Var2': 0, 'totalHeal': 8291, 'perk3Var1': 393, 'magicDamageDealtToChampions': 16338, 'totalDamageTaken': 18435, 'item5': 3027, 'longestTimeSpentLiving': 617, 'neutralMinionsKilledEnemyJungle': 8, 'firstInhibitorKill': False, 'physicalDamageDealt': 11334, 'participantId': 9, 'playerScore5': 0, 'perk3Var3': 0, 'playerScore0': 0, 'win': True, 'visionWardsBoughtInGame': 2, 'champLevel': 14, 'perk0Var1': 16, 'playerScore1': 0, 'perk4Var1': 793, 'sightWardsBoughtInGame': 0, 'totalDamageDealtToChampions': 17171, 'firstInhibitorAssist': True, 'item1': 3040, 'perk5Var3': 0, 'totalMinionsKilled': 134, 'item4': 0, 'goldSpent': 9700, 'tripleKills': 0, 'trueDamageDealtToChampions': 0, 'deaths': 3, 'perk5': 8135, 'item0': 3065, 'perk2': 8234, 'wardsKilled': 1, 'item6': 3340}, 'championId': 69, 'teamId': 200, 'participantId': 9, 'spell1Id': 7, 'spell2Id': 4}, {'timeline': {'goldPerMinDeltas': {'10-20': 435.8, '0-10': 279.7}, 'xpPerMinDeltas': {'10-20': 482.29999999999995, '0-10': 342.9}, 'lane': 'JUNGLE', 'creepsPerMinDeltas': {'10-20': 2.3, '0-10': 0.9}, 'role': 'NONE', 'participantId': 10, 'damageTakenPerMinDeltas': {'10-20': 709.4000000000001, '0-10': 774.5}}, 'highestAchievedSeasonTier': 'GOLD', 'stats': {'damageDealtToObjectives': 9422, 'totalScoreRank': 0, 'combatPlayerScore': 0, 'totalUnitsHealed': 1, 'perk1Var2': 0, 'largestKillingSpree': 2, 'perkSubStyle': 8000, 'trueDamageDealt': 7674, 'perk5Var1': 163, 'visionScore': 12, 'neutralMinionsKilled': 100, 'damageSelfMitigated': 10585, 'playerScore7': 0, 'totalPlayerScore': 0, 'firstTowerKill': False, 'largestMultiKill': 1, 'magicalDamageTaken': 2946, 'goldEarned': 10213, 'perk5Var2': 0, 'unrealKills': 0, 'firstBloodKill': False, 'playerScore2': 0, 'playerScore8': 0, 'inhibitorKills': 0, 'playerScore6': 0, 'assists': 1, 'timeCCingOthers': 3, 'item2': 3142, 'firstBloodAssist': False, 'turretKills': 0, 'totalDamageDealt': 137810, 'killingSprees': 1, 'trueDamageTaken': 1558, 'quadraKills': 0, 'perk1': 8143, 'damageDealtToTurrets': 1671, 'playerScore4': 0, 'perk2Var1': 5, 'perk4Var3': 0, 'perk3': 8135, 'perkPrimaryStyle': 8100, 'physicalDamageDealtToChampions': 4341, 'totalTimeCrowdControlDealt': 797, 'perk4Var2': 40, 'firstTowerAssist': False, 'doubleKills': 0, 'kills': 4, 'neutralMinionsKilledTeamJungle': 79, 'perk0Var3': 0, 'perk0': 8112, 'largestCriticalStrike': 0, 'physicalDamageTaken': 14966, 'perk1Var1': 163, 'playerScore9': 0, 'playerScore3': 0, 'objectivePlayerScore': 0, 'perk4': 9104, 'wardsPlaced': 9, 'item3': 3147, 'perk1Var3': 0, 'pentaKills': 0, 'perk2Var2': 0, 'magicDamageDealt': 9597, 'perk2Var3': 0, 'perk3Var2': 0, 'perk0Var2': 0, 'totalHeal': 10607, 'perk3Var1': 3, 'magicDamageDealtToChampions': 484, 'totalDamageTaken': 19470, 'item5': 0, 'longestTimeSpentLiving': 515, 'neutralMinionsKilledEnemyJungle': 4, 'firstInhibitorKill': False, 'physicalDamageDealt': 120538, 'participantId': 10, 'playerScore5': 0, 'perk3Var3': 0, 'playerScore0': 0, 'win': True, 'visionWardsBoughtInGame': 0, 'champLevel': 14, 'perk0Var1': 608, 'playerScore1': 0, 'perk4Var1': 16, 'sightWardsBoughtInGame': 0, 'totalDamageDealtToChampions': 5313, 'firstInhibitorAssist': False, 'item1': 3047, 'perk5Var3': 0, 'totalMinionsKilled': 66, 'item4': 0, 'goldSpent': 9875, 'tripleKills': 0, 'trueDamageDealtToChampions': 488, 'deaths': 4, 'perk5': 8014, 'item0': 1412, 'perk2': 8138, 'wardsKilled': 0, 'item6': 3340}, 'championId': 107, 'teamId': 200, 'participantId': 10, 'spell1Id': 4, 'spell2Id': 11}], 'participantIdentities': [{'participantId': 1, 'player': {'summonerId': 31835771, 'currentPlatformId': 'EUW1', 'accountId': 35599849, 'profileIcon': 1112, 'summonerName': 'Jazzaloop', 'matchHistoryUri': '/v1/stats/player_history/EUW1/35599849', 'currentAccountId': 35599849, 'platformId': 'EUW1'}}, {'participantId': 2, 'player': {'summonerId': 63772215, 'currentPlatformId': 'EUW1', 'accountId': 214773110, 'profileIcon': 1134, 'summonerName': 'Ico Colossus', 'matchHistoryUri': '/v1/stats/player_history/EUW1/214773110', 'currentAccountId': 214773110, 'platformId': 'EUW1'}}, {'participantId': 3, 'player': {'summonerId': 85518104, 'currentPlatformId': 'EUW1', 'accountId': 226983740, 'profileIcon': 3186, 'summonerName': 'Very Easy Name', 'matchHistoryUri': '/v1/stats/player_history/EUW1/226983740', 'currentAccountId': 226983740, 'platformId': 'EUW1'}}, {'participantId': 4, 'player': {'summonerId': 95489622, 'currentPlatformId': 'EUW1', 'accountId': 231412507, 'profileIcon': 741, 'summonerName': 'PopAmr', 'matchHistoryUri': '/v1/stats/player_history/EUW1/231412507', 'currentAccountId': 231412507, 'platformId': 'EUW1'}}, {'participantId': 5, 'player': {'summonerId': 216667, 'currentPlatformId': 'EUW1', 'accountId': 222397, 'profileIcon': 3014, 'summonerName': 'Cachoperra', 'matchHistoryUri': '/v1/stats/player_history/EUW1/222397', 'currentAccountId': 222397, 'platformId': 'EUW1'}}, {'participantId': 6, 'player': {'summonerId': 29750979, 'currentPlatformId': 'EUW1', 'accountId': 33417939, 'profileIcon': 783, 'summonerName': 'ODS Saig', 'matchHistoryUri': '/v1/stats/player_history/EUW1/33417939', 'currentAccountId': 33417939, 'platformId': 'EUW1'}}, {'participantId': 7, 'player': {'summonerId': 22939885, 'currentPlatformId': 'EUW1', 'accountId': 26976384, 'profileIcon': 4, 'summonerName': 'Pierrot Maggle', 'matchHistoryUri': '/v1/stats/player_history/EUW1/26976384', 'currentAccountId': 26976384, 'platformId': 'EUW1'}}, {'participantId': 8, 'player': {'summonerId': 23516141, 'currentPlatformId': 'EUW1', 'accountId': 27695644, 'profileIcon': 666, 'summonerName': 'Canisback', 'matchHistoryUri': '/v1/stats/player_history/EUW1/27695644', 'currentAccountId': 27695644, 'platformId': 'EUW1'}}, {'participantId': 9, 'player': {'summonerId': 21996719, 'currentPlatformId': 'EUW1', 'accountId': 25735053, 'profileIcon': 3382, 'summonerName': 'Vayna', 'matchHistoryUri': '/v1/stats/player_history/EUW1/25735053', 'currentAccountId': 25735053, 'platformId': 'EUW1'}}, {'participantId': 10, 'player': {'summonerId': 63947677, 'currentPlatformId': 'EUW1', 'accountId': 214527413, 'profileIcon': 1447, 'summonerName': 'Satonori', 'matchHistoryUri': '/v1/stats/player_history/EUW1/214527413', 'currentAccountId': 214527413, 'platformId': 'EUW1'}}], 'gameId': 3617250686, 'gameType': 'MATCHED_GAME', 'seasonId': 11, 'platformId': 'EUW1', 'teams': [{'bans': [], 'riftHeraldKills': 0, 'dominionVictoryScore': 0, 'firstBlood': True, 'firstInhibitor': False, 'firstDragon': False, 'teamId': 100, 'firstTower': False, 'win': 'Fail', 'baronKills': 0, 'inhibitorKills': 1, 'vilemawKills': 0, 'dragonKills': 0, 'firstRiftHerald': False, 'firstBaron': False, 'towerKills': 3}, {'bans': [], 'riftHeraldKills': 0, 'dominionVictoryScore': 0, 'firstBlood': False, 'firstInhibitor': True, 'firstDragon': True, 'teamId': 200, 'firstTower': True, 'win': 'Win', 'baronKills': 1, 'inhibitorKills': 1, 'vilemawKills': 0, 'dragonKills': 2, 'firstRiftHerald': False, 'firstBaron': True, 'towerKills': 9}], 'gameCreation': 1525146828398, 'gameMode': 'CLASSIC', 'gameVersion': '8.8.226.7254', 'queueId': 430, 'gameDuration': 1476}\n"
     ]
    }
   ],
   "source": [
    "name = \"Canisback\"\n",
    "\n",
    "loop = asyncio.get_event_loop()  \n",
    "\n",
    "(summonerId, accountId) = loop.run_until_complete(getSummonerId(name))\n",
    "gamesDataRaw = loop.run_until_complete(getRecentMatches(accountId))\n",
    "print(gamesDataRaw[0])"
   ]
  },
  {
   "cell_type": "markdown",
   "metadata": {},
   "source": [
    "The first step in this analysis is to figure out what is the participantId of the targeted player."
   ]
  },
  {
   "cell_type": "code",
   "execution_count": 4,
   "metadata": {},
   "outputs": [
    {
     "data": {
      "text/plain": [
       "8"
      ]
     },
     "execution_count": 4,
     "metadata": {},
     "output_type": "execute_result"
    }
   ],
   "source": [
    "def getParticipantIdFromAccountId(game,accountId):\n",
    "    for participant in game['participantIdentities']:\n",
    "        if participant['player']['currentAccountId'] == accountId:\n",
    "            return participant['participantId']\n",
    "        \n",
    "participantId = getParticipantIdFromAccountId(gamesDataRaw[0],accountId)\n",
    "participantId"
   ]
  },
  {
   "cell_type": "markdown",
   "metadata": {},
   "source": [
    "Now our targeted data are champion played by the player, and team composition. First, we get to now what champion has our player and in which team he is, and if he won."
   ]
  },
  {
   "cell_type": "code",
   "execution_count": 5,
   "metadata": {},
   "outputs": [
    {
     "name": "stdout",
     "output_type": "stream",
     "text": [
      "200 89 True\n"
     ]
    }
   ],
   "source": [
    "def getTeamAndChampion(game, participantId):\n",
    "    for participant in game['participants']:\n",
    "        if participant['participantId'] == participantId:\n",
    "            return participant['teamId'],participant['championId'],participant['stats']['win']\n",
    "\n",
    "teamId, championId, win = getTeamAndChampion(gamesDataRaw[0], participantId)\n",
    "print(teamId, championId, win)"
   ]
  },
  {
   "cell_type": "markdown",
   "metadata": {},
   "source": [
    "A little trick to know for teamId is that any summoner with participantId from 1 to 5 is in team 100 and from 6 to 10 in team 200, but it's only for 5v5 games."
   ]
  },
  {
   "cell_type": "markdown",
   "metadata": {},
   "source": [
    "Next is getting team composition."
   ]
  },
  {
   "cell_type": "code",
   "execution_count": 6,
   "metadata": {},
   "outputs": [
    {
     "data": {
      "text/plain": [
       "{100: [236, 77, 7, 497, 79], 200: [51, 86, 89, 69, 107]}"
      ]
     },
     "execution_count": 6,
     "metadata": {},
     "output_type": "execute_result"
    }
   ],
   "source": [
    "def getTeamComposition(game):\n",
    "    #Create an array for each team\n",
    "    compositions = {100:[],200:[]}\n",
    "    for participant in game['participants']:\n",
    "        compositions[participant['teamId']].append(participant['championId'])\n",
    "    return compositions\n",
    "\n",
    "compositions = getTeamComposition(gamesDataRaw[0])\n",
    "compositions"
   ]
  },
  {
   "cell_type": "markdown",
   "metadata": {},
   "source": [
    "Now that we have all team compositions, we would want to have their name instead of championId. Let's use ddragon to achieve that by creating a championId=>name dictionnary"
   ]
  },
  {
   "cell_type": "code",
   "execution_count": 7,
   "metadata": {},
   "outputs": [
    {
     "data": {
      "text/plain": [
       "{1: 'Annie',\n",
       " 2: 'Olaf',\n",
       " 3: 'Galio',\n",
       " 4: 'Twisted Fate',\n",
       " 5: 'Xin Zhao',\n",
       " 6: 'Urgot',\n",
       " 7: 'LeBlanc',\n",
       " 8: 'Vladimir',\n",
       " 9: 'Fiddlesticks',\n",
       " 10: 'Kayle',\n",
       " 11: 'Master Yi',\n",
       " 12: 'Alistar',\n",
       " 13: 'Ryze',\n",
       " 14: 'Sion',\n",
       " 15: 'Sivir',\n",
       " 16: 'Soraka',\n",
       " 17: 'Teemo',\n",
       " 18: 'Tristana',\n",
       " 19: 'Warwick',\n",
       " 20: 'Nunu',\n",
       " 21: 'Miss Fortune',\n",
       " 22: 'Ashe',\n",
       " 23: 'Tryndamere',\n",
       " 24: 'Jax',\n",
       " 25: 'Morgana',\n",
       " 26: 'Zilean',\n",
       " 27: 'Singed',\n",
       " 28: 'Evelynn',\n",
       " 29: 'Twitch',\n",
       " 30: 'Karthus',\n",
       " 31: \"Cho'Gath\",\n",
       " 32: 'Amumu',\n",
       " 33: 'Rammus',\n",
       " 34: 'Anivia',\n",
       " 35: 'Shaco',\n",
       " 36: 'Dr. Mundo',\n",
       " 37: 'Sona',\n",
       " 38: 'Kassadin',\n",
       " 39: 'Irelia',\n",
       " 40: 'Janna',\n",
       " 41: 'Gangplank',\n",
       " 42: 'Corki',\n",
       " 43: 'Karma',\n",
       " 44: 'Taric',\n",
       " 45: 'Veigar',\n",
       " 48: 'Trundle',\n",
       " 50: 'Swain',\n",
       " 51: 'Caitlyn',\n",
       " 53: 'Blitzcrank',\n",
       " 54: 'Malphite',\n",
       " 55: 'Katarina',\n",
       " 56: 'Nocturne',\n",
       " 57: 'Maokai',\n",
       " 58: 'Renekton',\n",
       " 59: 'Jarvan IV',\n",
       " 60: 'Elise',\n",
       " 61: 'Orianna',\n",
       " 62: 'Wukong',\n",
       " 63: 'Brand',\n",
       " 64: 'Lee Sin',\n",
       " 67: 'Vayne',\n",
       " 68: 'Rumble',\n",
       " 69: 'Cassiopeia',\n",
       " 72: 'Skarner',\n",
       " 74: 'Heimerdinger',\n",
       " 75: 'Nasus',\n",
       " 76: 'Nidalee',\n",
       " 77: 'Udyr',\n",
       " 78: 'Poppy',\n",
       " 79: 'Gragas',\n",
       " 80: 'Pantheon',\n",
       " 81: 'Ezreal',\n",
       " 82: 'Mordekaiser',\n",
       " 83: 'Yorick',\n",
       " 84: 'Akali',\n",
       " 85: 'Kennen',\n",
       " 86: 'Garen',\n",
       " 89: 'Leona',\n",
       " 90: 'Malzahar',\n",
       " 91: 'Talon',\n",
       " 92: 'Riven',\n",
       " 96: \"Kog'Maw\",\n",
       " 98: 'Shen',\n",
       " 99: 'Lux',\n",
       " 101: 'Xerath',\n",
       " 102: 'Shyvana',\n",
       " 103: 'Ahri',\n",
       " 104: 'Graves',\n",
       " 105: 'Fizz',\n",
       " 106: 'Volibear',\n",
       " 107: 'Rengar',\n",
       " 110: 'Varus',\n",
       " 111: 'Nautilus',\n",
       " 112: 'Viktor',\n",
       " 113: 'Sejuani',\n",
       " 114: 'Fiora',\n",
       " 115: 'Ziggs',\n",
       " 117: 'Lulu',\n",
       " 119: 'Draven',\n",
       " 120: 'Hecarim',\n",
       " 121: \"Kha'Zix\",\n",
       " 122: 'Darius',\n",
       " 126: 'Jayce',\n",
       " 127: 'Lissandra',\n",
       " 131: 'Diana',\n",
       " 133: 'Quinn',\n",
       " 134: 'Syndra',\n",
       " 136: 'Aurelion Sol',\n",
       " 141: 'Kayn',\n",
       " 142: 'Zoe',\n",
       " 143: 'Zyra',\n",
       " 145: \"Kai'Sa\",\n",
       " 150: 'Gnar',\n",
       " 154: 'Zac',\n",
       " 157: 'Yasuo',\n",
       " 161: \"Vel'Koz\",\n",
       " 163: 'Taliyah',\n",
       " 164: 'Camille',\n",
       " 201: 'Braum',\n",
       " 202: 'Jhin',\n",
       " 203: 'Kindred',\n",
       " 222: 'Jinx',\n",
       " 223: 'Tahm Kench',\n",
       " 236: 'Lucian',\n",
       " 238: 'Zed',\n",
       " 240: 'Kled',\n",
       " 245: 'Ekko',\n",
       " 254: 'Vi',\n",
       " 266: 'Aatrox',\n",
       " 267: 'Nami',\n",
       " 268: 'Azir',\n",
       " 412: 'Thresh',\n",
       " 420: 'Illaoi',\n",
       " 421: \"Rek'Sai\",\n",
       " 427: 'Ivern',\n",
       " 429: 'Kalista',\n",
       " 432: 'Bard',\n",
       " 497: 'Rakan',\n",
       " 498: 'Xayah',\n",
       " 516: 'Ornn'}"
      ]
     },
     "execution_count": 7,
     "metadata": {},
     "output_type": "execute_result"
    }
   ],
   "source": [
    "import requests, json\n",
    "response = requests.get('http://ddragon.leagueoflegends.com/cdn/8.9.1/data/en_US/champion.json')\n",
    "champonRawData = json.loads(response.text)\n",
    "\n",
    "championIdToName = {}\n",
    "for key,champion in champonRawData['data'].items():\n",
    "    championIdToName[int(champion['key'])] = champion['name']\n",
    "championIdToName"
   ]
  },
  {
   "cell_type": "code",
   "execution_count": 8,
   "metadata": {},
   "outputs": [
    {
     "data": {
      "text/plain": [
       "'Leona'"
      ]
     },
     "execution_count": 8,
     "metadata": {},
     "output_type": "execute_result"
    }
   ],
   "source": [
    "playerChampion = championIdToName[championId]\n",
    "playerChampion"
   ]
  },
  {
   "cell_type": "code",
   "execution_count": 9,
   "metadata": {},
   "outputs": [
    {
     "data": {
      "text/plain": [
       "['Caitlyn', 'Garen', 'Leona', 'Cassiopeia', 'Rengar']"
      ]
     },
     "execution_count": 9,
     "metadata": {},
     "output_type": "execute_result"
    }
   ],
   "source": [
    "teamComposition = [championIdToName[chId] for chId in compositions[teamId]]\n",
    "teamComposition"
   ]
  },
  {
   "cell_type": "code",
   "execution_count": 10,
   "metadata": {},
   "outputs": [
    {
     "data": {
      "text/plain": [
       "['Lucian', 'Udyr', 'LeBlanc', 'Rakan', 'Gragas']"
      ]
     },
     "execution_count": 10,
     "metadata": {},
     "output_type": "execute_result"
    }
   ],
   "source": [
    "enemyTeamComposition = [championIdToName[chId] for chId in compositions[100 if teamId==200 else 200]]\n",
    "enemyTeamComposition"
   ]
  },
  {
   "cell_type": "markdown",
   "metadata": {},
   "source": [
    "You can also transform the array in a single string"
   ]
  },
  {
   "cell_type": "code",
   "execution_count": 11,
   "metadata": {},
   "outputs": [
    {
     "data": {
      "text/plain": [
       "'Caitlyn/Garen/Leona/Cassiopeia/Rengar'"
      ]
     },
     "execution_count": 11,
     "metadata": {},
     "output_type": "execute_result"
    }
   ],
   "source": [
    "\"/\".join(teamComposition)"
   ]
  },
  {
   "cell_type": "code",
   "execution_count": 12,
   "metadata": {},
   "outputs": [
    {
     "data": {
      "text/plain": [
       "'Lucian/Udyr/LeBlanc/Rakan/Gragas'"
      ]
     },
     "execution_count": 12,
     "metadata": {},
     "output_type": "execute_result"
    }
   ],
   "source": [
    "\"/\".join(enemyTeamComposition)"
   ]
  },
  {
   "cell_type": "markdown",
   "metadata": {},
   "source": [
    "Add some other data like patch and date"
   ]
  },
  {
   "cell_type": "code",
   "execution_count": 13,
   "metadata": {},
   "outputs": [
    {
     "data": {
      "text/plain": [
       "'8.8'"
      ]
     },
     "execution_count": 13,
     "metadata": {},
     "output_type": "execute_result"
    }
   ],
   "source": [
    "def getPatch(game):\n",
    "    #Game version number contains minor versions, only take the two major ones.\n",
    "    return \".\".join(game['gameVersion'].split(\".\")[:2])\n",
    "getPatch(gamesDataRaw[0])"
   ]
  },
  {
   "cell_type": "code",
   "execution_count": 14,
   "metadata": {},
   "outputs": [
    {
     "data": {
      "text/plain": [
       "'2018/05/01'"
      ]
     },
     "execution_count": 14,
     "metadata": {},
     "output_type": "execute_result"
    }
   ],
   "source": [
    "import datetime\n",
    "\n",
    "def getDate(game):\n",
    "    return datetime.datetime.fromtimestamp(int(game[\"gameCreation\"]/1000)).strftime('%Y/%m/%d')\n",
    "\n",
    "getDate(gamesDataRaw[0])"
   ]
  },
  {
   "cell_type": "markdown",
   "metadata": {},
   "source": [
    "Now that we have all the data we need (for now), let's generalize it for every game we get"
   ]
  },
  {
   "cell_type": "code",
   "execution_count": 15,
   "metadata": {},
   "outputs": [
    {
     "data": {
      "text/plain": [
       "[{'champion': 'Leona',\n",
       "  'date': '2018/05/01',\n",
       "  'enemyTeamComposition': 'Lucian/Udyr/LeBlanc/Rakan/Gragas',\n",
       "  'patch': '8.8',\n",
       "  'teamComposition': 'Caitlyn/Garen/Leona/Cassiopeia/Rengar',\n",
       "  'win': True},\n",
       " {'champion': 'Leona',\n",
       "  'date': '2018/05/01',\n",
       "  'enemyTeamComposition': 'Lucian/Zed/Taric/Evelynn/Pantheon',\n",
       "  'patch': '8.8',\n",
       "  'teamComposition': 'Nasus/Garen/LeBlanc/Lee Sin/Leona',\n",
       "  'win': False},\n",
       " {'champion': 'Garen',\n",
       "  'date': '2018/05/01',\n",
       "  'enemyTeamComposition': 'Kennen/Lee Sin/Viktor/Thresh/Draven',\n",
       "  'patch': '8.8',\n",
       "  'teamComposition': 'Rakan/Xin Zhao/Jhin/Brand/Garen',\n",
       "  'win': True},\n",
       " {'champion': 'Ziggs',\n",
       "  'date': '2018/05/01',\n",
       "  'enemyTeamComposition': 'Yasuo/Varus/Dr. Mundo/Jax/Zyra',\n",
       "  'patch': '8.8',\n",
       "  'teamComposition': 'Xin Zhao/Jhin/Brand/Ziggs/Jax',\n",
       "  'win': True},\n",
       " {'champion': 'Ziggs',\n",
       "  'date': '2018/05/01',\n",
       "  'enemyTeamComposition': \"Nasus/Miss Fortune/Lux/Kai'Sa/Katarina\",\n",
       "  'patch': '8.8',\n",
       "  'teamComposition': 'Heimerdinger/Xin Zhao/Jhin/Brand/Ziggs',\n",
       "  'win': True},\n",
       " {'champion': 'Garen',\n",
       "  'date': '2018/05/01',\n",
       "  'enemyTeamComposition': 'Ezreal/Caitlyn/Nami/Graves/Singed',\n",
       "  'patch': '8.8',\n",
       "  'teamComposition': \"Leona/Vel'Koz/Thresh/Miss Fortune/Garen\",\n",
       "  'win': True},\n",
       " {'champion': 'Teemo',\n",
       "  'date': '2018/05/01',\n",
       "  'enemyTeamComposition': \"Lux/Morgana/Teemo/Brand/Kha'Zix\",\n",
       "  'patch': '8.8',\n",
       "  'teamComposition': \"Vel'Koz/Kha'Zix/Miss Fortune/Teemo/Kayle\",\n",
       "  'win': True},\n",
       " {'champion': 'Teemo',\n",
       "  'date': '2018/05/01',\n",
       "  'enemyTeamComposition': 'Aurelion Sol/Varus/Alistar/Jarvan IV/Camille',\n",
       "  'patch': '8.8',\n",
       "  'teamComposition': 'Garen/Jinx/Lulu/Teemo/Orianna',\n",
       "  'win': False},\n",
       " {'champion': 'Teemo',\n",
       "  'date': '2018/04/30',\n",
       "  'enemyTeamComposition': \"Jayce/Syndra/Kled/Cho'Gath/Ezreal\",\n",
       "  'patch': '8.8',\n",
       "  'teamComposition': 'Lux/Jinx/Lulu/Teemo/Vi',\n",
       "  'win': True},\n",
       " {'champion': 'Teemo',\n",
       "  'date': '2018/04/30',\n",
       "  'enemyTeamComposition': 'Corki/Anivia/Ryze/Vladimir/Irelia',\n",
       "  'patch': '8.8',\n",
       "  'teamComposition': 'Xin Zhao/Caitlyn/Lulu/Teemo/Yasuo',\n",
       "  'win': True}]"
      ]
     },
     "execution_count": 15,
     "metadata": {},
     "output_type": "execute_result"
    }
   ],
   "source": [
    "gameInformationList = []\n",
    "\n",
    "for game in gamesDataRaw:\n",
    "    #Get the information\n",
    "    participantId = getParticipantIdFromAccountId(game,accountId)\n",
    "    teamId, championId, win = getTeamAndChampion(game, participantId)\n",
    "    compositions = getTeamComposition(game)\n",
    "    \n",
    "    #Select information you want to show\n",
    "    gameInformation = {}\n",
    "    gameInformation['win'] = win\n",
    "    gameInformation['champion'] = championIdToName[championId]\n",
    "    gameInformation['patch'] = getPatch(game)\n",
    "    gameInformation['date'] = getDate(game)\n",
    "    gameInformation['teamComposition'] = \"/\".join([championIdToName[chId] for chId in compositions[teamId]])\n",
    "    gameInformation['enemyTeamComposition'] = \"/\".join([championIdToName[chId] for chId in compositions[100 if teamId==200 else 200]])\n",
    "    #Add the row to the list\n",
    "    gameInformationList.append(gameInformation)\n",
    "\n",
    "gameInformationList"
   ]
  },
  {
   "cell_type": "markdown",
   "metadata": {},
   "source": [
    "Great, you have your data! I recommend you to use pandas to display nd manipulate the data easily"
   ]
  },
  {
   "cell_type": "code",
   "execution_count": 16,
   "metadata": {},
   "outputs": [
    {
     "data": {
      "text/html": [
       "<div>\n",
       "<style>\n",
       "    .dataframe thead tr:only-child th {\n",
       "        text-align: right;\n",
       "    }\n",
       "\n",
       "    .dataframe thead th {\n",
       "        text-align: left;\n",
       "    }\n",
       "\n",
       "    .dataframe tbody tr th {\n",
       "        vertical-align: top;\n",
       "    }\n",
       "</style>\n",
       "<table border=\"1\" class=\"dataframe\">\n",
       "  <thead>\n",
       "    <tr style=\"text-align: right;\">\n",
       "      <th></th>\n",
       "      <th>champion</th>\n",
       "      <th>date</th>\n",
       "      <th>enemyTeamComposition</th>\n",
       "      <th>patch</th>\n",
       "      <th>teamComposition</th>\n",
       "      <th>win</th>\n",
       "    </tr>\n",
       "  </thead>\n",
       "  <tbody>\n",
       "    <tr>\n",
       "      <th>0</th>\n",
       "      <td>Leona</td>\n",
       "      <td>2018/05/01</td>\n",
       "      <td>Lucian/Udyr/LeBlanc/Rakan/Gragas</td>\n",
       "      <td>8.8</td>\n",
       "      <td>Caitlyn/Garen/Leona/Cassiopeia/Rengar</td>\n",
       "      <td>True</td>\n",
       "    </tr>\n",
       "    <tr>\n",
       "      <th>1</th>\n",
       "      <td>Leona</td>\n",
       "      <td>2018/05/01</td>\n",
       "      <td>Lucian/Zed/Taric/Evelynn/Pantheon</td>\n",
       "      <td>8.8</td>\n",
       "      <td>Nasus/Garen/LeBlanc/Lee Sin/Leona</td>\n",
       "      <td>False</td>\n",
       "    </tr>\n",
       "    <tr>\n",
       "      <th>2</th>\n",
       "      <td>Garen</td>\n",
       "      <td>2018/05/01</td>\n",
       "      <td>Kennen/Lee Sin/Viktor/Thresh/Draven</td>\n",
       "      <td>8.8</td>\n",
       "      <td>Rakan/Xin Zhao/Jhin/Brand/Garen</td>\n",
       "      <td>True</td>\n",
       "    </tr>\n",
       "    <tr>\n",
       "      <th>3</th>\n",
       "      <td>Ziggs</td>\n",
       "      <td>2018/05/01</td>\n",
       "      <td>Yasuo/Varus/Dr. Mundo/Jax/Zyra</td>\n",
       "      <td>8.8</td>\n",
       "      <td>Xin Zhao/Jhin/Brand/Ziggs/Jax</td>\n",
       "      <td>True</td>\n",
       "    </tr>\n",
       "    <tr>\n",
       "      <th>4</th>\n",
       "      <td>Ziggs</td>\n",
       "      <td>2018/05/01</td>\n",
       "      <td>Nasus/Miss Fortune/Lux/Kai'Sa/Katarina</td>\n",
       "      <td>8.8</td>\n",
       "      <td>Heimerdinger/Xin Zhao/Jhin/Brand/Ziggs</td>\n",
       "      <td>True</td>\n",
       "    </tr>\n",
       "    <tr>\n",
       "      <th>5</th>\n",
       "      <td>Garen</td>\n",
       "      <td>2018/05/01</td>\n",
       "      <td>Ezreal/Caitlyn/Nami/Graves/Singed</td>\n",
       "      <td>8.8</td>\n",
       "      <td>Leona/Vel'Koz/Thresh/Miss Fortune/Garen</td>\n",
       "      <td>True</td>\n",
       "    </tr>\n",
       "    <tr>\n",
       "      <th>6</th>\n",
       "      <td>Teemo</td>\n",
       "      <td>2018/05/01</td>\n",
       "      <td>Lux/Morgana/Teemo/Brand/Kha'Zix</td>\n",
       "      <td>8.8</td>\n",
       "      <td>Vel'Koz/Kha'Zix/Miss Fortune/Teemo/Kayle</td>\n",
       "      <td>True</td>\n",
       "    </tr>\n",
       "    <tr>\n",
       "      <th>7</th>\n",
       "      <td>Teemo</td>\n",
       "      <td>2018/05/01</td>\n",
       "      <td>Aurelion Sol/Varus/Alistar/Jarvan IV/Camille</td>\n",
       "      <td>8.8</td>\n",
       "      <td>Garen/Jinx/Lulu/Teemo/Orianna</td>\n",
       "      <td>False</td>\n",
       "    </tr>\n",
       "    <tr>\n",
       "      <th>8</th>\n",
       "      <td>Teemo</td>\n",
       "      <td>2018/04/30</td>\n",
       "      <td>Jayce/Syndra/Kled/Cho'Gath/Ezreal</td>\n",
       "      <td>8.8</td>\n",
       "      <td>Lux/Jinx/Lulu/Teemo/Vi</td>\n",
       "      <td>True</td>\n",
       "    </tr>\n",
       "    <tr>\n",
       "      <th>9</th>\n",
       "      <td>Teemo</td>\n",
       "      <td>2018/04/30</td>\n",
       "      <td>Corki/Anivia/Ryze/Vladimir/Irelia</td>\n",
       "      <td>8.8</td>\n",
       "      <td>Xin Zhao/Caitlyn/Lulu/Teemo/Yasuo</td>\n",
       "      <td>True</td>\n",
       "    </tr>\n",
       "  </tbody>\n",
       "</table>\n",
       "</div>"
      ],
      "text/plain": [
       "  champion        date                          enemyTeamComposition patch  \\\n",
       "0    Leona  2018/05/01              Lucian/Udyr/LeBlanc/Rakan/Gragas   8.8   \n",
       "1    Leona  2018/05/01             Lucian/Zed/Taric/Evelynn/Pantheon   8.8   \n",
       "2    Garen  2018/05/01           Kennen/Lee Sin/Viktor/Thresh/Draven   8.8   \n",
       "3    Ziggs  2018/05/01                Yasuo/Varus/Dr. Mundo/Jax/Zyra   8.8   \n",
       "4    Ziggs  2018/05/01        Nasus/Miss Fortune/Lux/Kai'Sa/Katarina   8.8   \n",
       "5    Garen  2018/05/01             Ezreal/Caitlyn/Nami/Graves/Singed   8.8   \n",
       "6    Teemo  2018/05/01               Lux/Morgana/Teemo/Brand/Kha'Zix   8.8   \n",
       "7    Teemo  2018/05/01  Aurelion Sol/Varus/Alistar/Jarvan IV/Camille   8.8   \n",
       "8    Teemo  2018/04/30             Jayce/Syndra/Kled/Cho'Gath/Ezreal   8.8   \n",
       "9    Teemo  2018/04/30             Corki/Anivia/Ryze/Vladimir/Irelia   8.8   \n",
       "\n",
       "                            teamComposition    win  \n",
       "0     Caitlyn/Garen/Leona/Cassiopeia/Rengar   True  \n",
       "1         Nasus/Garen/LeBlanc/Lee Sin/Leona  False  \n",
       "2           Rakan/Xin Zhao/Jhin/Brand/Garen   True  \n",
       "3             Xin Zhao/Jhin/Brand/Ziggs/Jax   True  \n",
       "4    Heimerdinger/Xin Zhao/Jhin/Brand/Ziggs   True  \n",
       "5   Leona/Vel'Koz/Thresh/Miss Fortune/Garen   True  \n",
       "6  Vel'Koz/Kha'Zix/Miss Fortune/Teemo/Kayle   True  \n",
       "7             Garen/Jinx/Lulu/Teemo/Orianna  False  \n",
       "8                    Lux/Jinx/Lulu/Teemo/Vi   True  \n",
       "9         Xin Zhao/Caitlyn/Lulu/Teemo/Yasuo   True  "
      ]
     },
     "execution_count": 16,
     "metadata": {},
     "output_type": "execute_result"
    }
   ],
   "source": [
    "import pandas as pd\n",
    "df = pd.DataFrame(gameInformationList)\n",
    "df"
   ]
  },
  {
   "cell_type": "code",
   "execution_count": null,
   "metadata": {
    "collapsed": true
   },
   "outputs": [],
   "source": []
  }
 ],
 "metadata": {
  "kernelspec": {
   "display_name": "Python 3",
   "language": "python",
   "name": "python3"
  },
  "language_info": {
   "codemirror_mode": {
    "name": "ipython",
    "version": 3
   },
   "file_extension": ".py",
   "mimetype": "text/x-python",
   "name": "python",
   "nbconvert_exporter": "python",
   "pygments_lexer": "ipython3",
   "version": "3.5.4"
  }
 },
 "nbformat": 4,
 "nbformat_minor": 2
}
