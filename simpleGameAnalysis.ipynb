{
 "cells": [
  {
   "cell_type": "markdown",
   "metadata": {},
   "source": [
    "First import pantheon and asyncio, and initiate a Pantheon instance"
   ]
  },
  {
   "cell_type": "code",
   "execution_count": 1,
   "metadata": {
    "collapsed": true
   },
   "outputs": [],
   "source": [
    "from pantheon import pantheon\n",
    "import asyncio\n",
    "\n",
    "server = \"euw1\"\n",
    "api_key = \"RGAPI-XXXX\"\n",
    "\n",
    "panth = pantheon.Pantheon(server, api_key, True)"
   ]
  },
  {
   "cell_type": "markdown",
   "metadata": {},
   "source": [
    "Create the function to get game data"
   ]
  },
  {
   "cell_type": "code",
   "execution_count": 2,
   "metadata": {
    "collapsed": true
   },
   "outputs": [],
   "source": [
    "\n",
    "async def getSummonerId(name):\n",
    "    try:\n",
    "        data = await panth.getSummonerByName(name)\n",
    "        return (data['id'],data['accountId'])\n",
    "    except Exception as e:\n",
    "        print(e)\n",
    "\n",
    "\n",
    "async def getRecentMatchlist(accountId):\n",
    "    try:\n",
    "        data = await panth.getMatchlist(accountId, params={\"endIndex\":10})\n",
    "        return data\n",
    "    except Exception as e:\n",
    "        print(e)\n",
    "\n",
    "async def getRecentMatches(accountId):\n",
    "    try:\n",
    "        matchlist = await getRecentMatchlist(accountId)\n",
    "        tasks = [panth.getMatch(match['gameId']) for match in matchlist['matches']]\n",
    "        return await asyncio.gather(*tasks)\n",
    "    except Exception as e:\n",
    "        print(e)"
   ]
  },
  {
   "cell_type": "markdown",
   "metadata": {},
   "source": [
    "Get you games data"
   ]
  },
  {
   "cell_type": "code",
   "execution_count": 3,
   "metadata": {},
   "outputs": [
    {
     "name": "stdout",
     "output_type": "stream",
     "text": [
      "{'participants': [{'spell1Id': 11, 'championId': 11, 'highestAchievedSeasonTier': 'UNRANKED', 'timeline': {'role': 'NONE', 'damageTakenPerMinDeltas': {'0-10': 686.4, '10-20': 841.2}, 'creepsPerMinDeltas': {'0-10': 1.3, '10-20': 3.8}, 'xpPerMinDeltas': {'0-10': 399, '10-20': 520.6}, 'damageTakenDiffPerMinDeltas': {'0-10': 103.80000000000001, '10-20': -93.00000000000006}, 'lane': 'JUNGLE', 'goldPerMinDeltas': {'0-10': 403.4, '10-20': 581.0999999999999}, 'participantId': 1, 'csDiffPerMinDeltas': {'0-10': 1.3, '10-20': 2.6}, 'xpDiffPerMinDeltas': {'0-10': 123.89999999999999, '10-20': 224.10000000000002}}, 'teamId': 100, 'participantId': 1, 'spell2Id': 4, 'stats': {'neutralMinionsKilledTeamJungle': 45, 'magicDamageDealtToChampions': 82, 'item3': 3006, 'firstTowerAssist': False, 'perk2Var3': 0, 'unrealKills': 0, 'perk5Var2': 0, 'trueDamageTaken': 188, 'win': True, 'perk3': 8014, 'perk5Var1': 14, 'sightWardsBoughtInGame': 0, 'longestTimeSpentLiving': 401, 'firstInhibitorKill': True, 'timeCCingOthers': 2, 'totalDamageDealtToChampions': 9591, 'firstTowerKill': False, 'firstBloodAssist': False, 'combatPlayerScore': 0, 'playerScore1': 0, 'perk1Var1': 662, 'firstInhibitorAssist': False, 'visionWardsBoughtInGame': 0, 'perk4Var2': 0, 'largestMultiKill': 2, 'neutralMinionsKilledEnemyJungle': 17, 'totalTimeCrowdControlDealt': 593, 'item0': 1419, 'pentaKills': 0, 'firstBloodKill': True, 'perkSubStyle': 8200, 'wardsKilled': 1, 'trueDamageDealt': 20881, 'damageDealtToObjectives': 28973, 'perk1Var2': 0, 'playerScore7': 0, 'physicalDamageDealtToChampions': 7840, 'perk3Var2': 0, 'item2': 3077, 'tripleKills': 0, 'magicDamageDealt': 919, 'perk1': 9111, 'magicalDamageTaken': 1999, 'totalPlayerScore': 0, 'perk2': 9104, 'perk1Var3': 0, 'deaths': 3, 'damageSelfMitigated': 6826, 'kills': 8, 'perk4': 8234, 'item5': 0, 'playerScore6': 0, 'item4': 3124, 'playerScore8': 0, 'largestKillingSpree': 4, 'playerScore4': 0, 'turretKills': 4, 'quadraKills': 0, 'goldSpent': 8625, 'inhibitorKills': 1, 'visionScore': 13, 'playerScore3': 0, 'perk3Var1': 241, 'champLevel': 12, 'perkPrimaryStyle': 8000, 'physicalDamageTaken': 13089, 'totalScoreRank': 0, 'perk3Var3': 0, 'totalHeal': 5353, 'physicalDamageDealt': 102377, 'participantId': 1, 'killingSprees': 2, 'wardsPlaced': 6, 'perk0Var1': 0, 'perk2Var1': 9, 'playerScore2': 0, 'perk5Var3': 0, 'perk5': 8236, 'totalDamageTaken': 15276, 'totalUnitsHealed': 1, 'goldEarned': 10346, 'totalMinionsKilled': 51, 'perk0Var2': 50, 'perk4Var3': 0, 'perk0': 8008, 'item1': 2032, 'neutralMinionsKilled': 96, 'assists': 3, 'trueDamageDealtToChampions': 1668, 'damageDealtToTurrets': 4056, 'objectivePlayerScore': 0, 'perk4Var1': 12, 'totalDamageDealt': 124178, 'item6': 3340, 'playerScore0': 0, 'doubleKills': 1, 'playerScore9': 0, 'playerScore5': 0, 'largestCriticalStrike': 0, 'perk0Var3': 0, 'perk2Var2': 50}}, {'spell1Id': 4, 'championId': 110, 'highestAchievedSeasonTier': 'DIAMOND', 'timeline': {'role': 'DUO_CARRY', 'damageTakenPerMinDeltas': {'0-10': 440.70000000000005, '10-20': 618.4}, 'creepsPerMinDeltas': {'0-10': 6.1, '10-20': 9.600000000000001}, 'xpPerMinDeltas': {'0-10': 349.70000000000005, '10-20': 643.2}, 'damageTakenDiffPerMinDeltas': {'0-10': 11.899999999999977, '10-20': 167.54999999999995}, 'lane': 'BOTTOM', 'goldPerMinDeltas': {'0-10': 395.5, '10-20': 944.7}, 'participantId': 2, 'csDiffPerMinDeltas': {'0-10': 1.0999999999999999, '10-20': 2.6}, 'xpDiffPerMinDeltas': {'0-10': 84.40000000000002, '10-20': 247.10000000000002}}, 'teamId': 100, 'participantId': 2, 'spell2Id': 7, 'stats': {'neutralMinionsKilledTeamJungle': 4, 'magicDamageDealtToChampions': 10284, 'item3': 3115, 'firstTowerAssist': False, 'perk2Var3': 0, 'unrealKills': 0, 'perk5Var2': 0, 'trueDamageTaken': 204, 'win': True, 'perk3': 8014, 'perk5Var1': 24, 'sightWardsBoughtInGame': 0, 'longestTimeSpentLiving': 516, 'firstInhibitorKill': False, 'timeCCingOthers': 30, 'totalDamageDealtToChampions': 21390, 'firstTowerKill': True, 'firstBloodAssist': False, 'combatPlayerScore': 0, 'playerScore1': 0, 'perk1Var1': 867, 'firstInhibitorAssist': False, 'visionWardsBoughtInGame': 1, 'perk4Var2': 0, 'largestMultiKill': 2, 'neutralMinionsKilledEnemyJungle': 8, 'totalTimeCrowdControlDealt': 552, 'item0': 1055, 'pentaKills': 0, 'firstBloodKill': False, 'perkSubStyle': 8200, 'wardsKilled': 0, 'trueDamageDealt': 3904, 'damageDealtToObjectives': 17135, 'perk1Var2': 0, 'playerScore7': 0, 'physicalDamageDealtToChampions': 10999, 'perk3Var2': 0, 'item2': 3124, 'tripleKills': 0, 'magicDamageDealt': 48279, 'perk1': 9111, 'magicalDamageTaken': 3811, 'totalPlayerScore': 0, 'perk2': 9104, 'perk1Var3': 0, 'deaths': 1, 'damageSelfMitigated': 5284, 'kills': 16, 'perk4': 8234, 'item5': 3089, 'playerScore6': 0, 'item4': 3047, 'playerScore8': 0, 'largestKillingSpree': 13, 'playerScore4': 0, 'turretKills': 3, 'quadraKills': 0, 'goldSpent': 12925, 'inhibitorKills': 2, 'visionScore': 15, 'playerScore3': 0, 'perk3Var1': 596, 'champLevel': 12, 'perkPrimaryStyle': 8000, 'physicalDamageTaken': 6575, 'totalScoreRank': 0, 'perk3Var3': 0, 'totalHeal': 3364, 'physicalDamageDealt': 61664, 'participantId': 2, 'killingSprees': 2, 'wardsPlaced': 8, 'perk0Var1': 1936, 'perk2Var1': 9, 'playerScore2': 0, 'perk5Var3': 0, 'perk5': 8236, 'totalDamageTaken': 10591, 'totalUnitsHealed': 2, 'goldEarned': 13903, 'totalMinionsKilled': 157, 'perk0Var2': 0, 'perk4Var3': 0, 'perk0': 8021, 'item1': 3086, 'neutralMinionsKilled': 12, 'assists': 6, 'trueDamageDealtToChampions': 106, 'damageDealtToTurrets': 17135, 'objectivePlayerScore': 0, 'perk4Var1': 13, 'totalDamageDealt': 113848, 'item6': 3340, 'playerScore0': 0, 'doubleKills': 4, 'playerScore9': 0, 'playerScore5': 0, 'largestCriticalStrike': 250, 'perk0Var3': 0, 'perk2Var2': 30}}, {'spell1Id': 4, 'championId': 90, 'highestAchievedSeasonTier': 'UNRANKED', 'timeline': {'role': 'SOLO', 'damageTakenPerMinDeltas': {'0-10': 268.5, '10-20': 463.29999999999995}, 'creepsPerMinDeltas': {'0-10': 4.6, '10-20': 3.4000000000000004}, 'xpPerMinDeltas': {'0-10': 437.5, '10-20': 426.7}, 'goldPerMinDeltas': {'0-10': 208, '10-20': 349.1}, 'participantId': 3, 'lane': 'MIDDLE'}, 'teamId': 100, 'participantId': 3, 'spell2Id': 7, 'stats': {'neutralMinionsKilledTeamJungle': 4, 'magicDamageDealtToChampions': 7545, 'item3': 3020, 'firstTowerAssist': False, 'perk2Var3': 0, 'unrealKills': 0, 'perk5Var2': 0, 'trueDamageTaken': 759, 'win': True, 'perk3': 8237, 'perk5Var1': 2, 'sightWardsBoughtInGame': 0, 'longestTimeSpentLiving': 602, 'firstInhibitorKill': False, 'timeCCingOthers': 25, 'totalDamageDealtToChampions': 8496, 'firstTowerKill': False, 'firstBloodAssist': False, 'combatPlayerScore': 0, 'playerScore1': 0, 'perk1Var1': 250, 'firstInhibitorAssist': False, 'visionWardsBoughtInGame': 0, 'perk4Var2': 0, 'largestMultiKill': 0, 'neutralMinionsKilledEnemyJungle': 4, 'totalTimeCrowdControlDealt': 101, 'item0': 1056, 'pentaKills': 0, 'firstBloodKill': False, 'perkSubStyle': 8100, 'wardsKilled': 0, 'trueDamageDealt': 0, 'damageDealtToObjectives': 0, 'perk1Var2': 350, 'playerScore7': 0, 'physicalDamageDealtToChampions': 950, 'perk3Var2': 0, 'item2': 3285, 'tripleKills': 0, 'magicDamageDealt': 40390, 'perk1': 8226, 'magicalDamageTaken': 1410, 'totalPlayerScore': 0, 'perk2': 8234, 'perk1Var3': 0, 'deaths': 2, 'damageSelfMitigated': 3403, 'kills': 0, 'perk4': 8143, 'item5': 0, 'playerScore6': 0, 'item4': 0, 'playerScore8': 0, 'largestKillingSpree': 0, 'playerScore4': 0, 'turretKills': 0, 'quadraKills': 0, 'goldSpent': 5100, 'inhibitorKills': 0, 'visionScore': 3, 'playerScore3': 0, 'perk3Var1': 324, 'champLevel': 12, 'perkPrimaryStyle': 8200, 'physicalDamageTaken': 5149, 'totalScoreRank': 0, 'perk3Var3': 0, 'totalHeal': 1156, 'physicalDamageDealt': 10627, 'participantId': 3, 'killingSprees': 0, 'wardsPlaced': 3, 'perk0Var1': 546, 'perk2Var1': 12, 'playerScore2': 0, 'perk5Var3': 0, 'perk5': 8135, 'totalDamageTaken': 7318, 'totalUnitsHealed': 2, 'goldEarned': 6072, 'totalMinionsKilled': 80, 'perk0Var2': 0, 'perk4Var3': 0, 'perk0': 8229, 'item1': 0, 'neutralMinionsKilled': 8, 'assists': 2, 'trueDamageDealtToChampions': 0, 'damageDealtToTurrets': 0, 'objectivePlayerScore': 0, 'perk4Var1': 7, 'totalDamageDealt': 51018, 'item6': 3340, 'playerScore0': 0, 'doubleKills': 0, 'playerScore9': 0, 'playerScore5': 0, 'largestCriticalStrike': 0, 'perk0Var3': 0, 'perk2Var2': 0}}, {'spell1Id': 4, 'championId': 31, 'highestAchievedSeasonTier': 'UNRANKED', 'timeline': {'role': 'SOLO', 'damageTakenPerMinDeltas': {'0-10': 572.5999999999999, '10-20': 1181}, 'creepsPerMinDeltas': {'0-10': 5.9, '10-20': 5.7}, 'xpPerMinDeltas': {'0-10': 477.4, '10-20': 569.3}, 'goldPerMinDeltas': {'0-10': 300.79999999999995, '10-20': 556.5999999999999}, 'participantId': 4, 'lane': 'TOP'}, 'teamId': 100, 'participantId': 4, 'spell2Id': 12, 'stats': {'neutralMinionsKilledTeamJungle': 0, 'magicDamageDealtToChampions': 8457, 'item3': 3135, 'firstTowerAssist': False, 'perk2Var3': 0, 'unrealKills': 0, 'perk5Var2': 0, 'trueDamageTaken': 0, 'win': True, 'perk3': 8135, 'perk5Var1': 118, 'sightWardsBoughtInGame': 0, 'longestTimeSpentLiving': 425, 'firstInhibitorKill': False, 'timeCCingOthers': 46, 'totalDamageDealtToChampions': 11571, 'firstTowerKill': False, 'firstBloodAssist': False, 'combatPlayerScore': 0, 'playerScore1': 0, 'perk1Var1': 149, 'firstInhibitorAssist': True, 'visionWardsBoughtInGame': 0, 'perk4Var2': 0, 'largestMultiKill': 1, 'neutralMinionsKilledEnemyJungle': 0, 'totalTimeCrowdControlDealt': 405, 'item0': 1001, 'pentaKills': 0, 'firstBloodKill': False, 'perkSubStyle': 8000, 'wardsKilled': 0, 'trueDamageDealt': 6676, 'damageDealtToObjectives': 2375, 'perk1Var2': 0, 'playerScore7': 0, 'physicalDamageDealtToChampions': 1246, 'perk3Var2': 0, 'item2': 3027, 'tripleKills': 0, 'magicDamageDealt': 48951, 'perk1': 8143, 'magicalDamageTaken': 4909, 'totalPlayerScore': 0, 'perk2': 8136, 'perk1Var3': 0, 'deaths': 3, 'damageSelfMitigated': 9437, 'kills': 6, 'perk4': 9111, 'item5': 0, 'playerScore6': 0, 'item4': 0, 'playerScore8': 0, 'largestKillingSpree': 4, 'playerScore4': 0, 'turretKills': 1, 'quadraKills': 0, 'goldSpent': 8250, 'inhibitorKills': 0, 'visionScore': 10, 'playerScore3': 0, 'perk3Var1': 5, 'champLevel': 13, 'perkPrimaryStyle': 8100, 'physicalDamageTaken': 12627, 'totalScoreRank': 0, 'perk3Var3': 0, 'totalHeal': 4635, 'physicalDamageDealt': 12538, 'participantId': 4, 'killingSprees': 1, 'wardsPlaced': 10, 'perk0Var1': 429, 'perk2Var1': 0, 'playerScore2': 0, 'perk5Var3': 0, 'perk5': 8014, 'totalDamageTaken': 17536, 'totalUnitsHealed': 1, 'goldEarned': 9075, 'totalMinionsKilled': 116, 'perk0Var2': 0, 'perk4Var3': 0, 'perk0': 8112, 'item1': 3152, 'neutralMinionsKilled': 0, 'assists': 4, 'trueDamageDealtToChampions': 1867, 'damageDealtToTurrets': 2375, 'objectivePlayerScore': 0, 'perk4Var1': 558, 'totalDamageDealt': 68166, 'item6': 3340, 'playerScore0': 0, 'doubleKills': 0, 'playerScore9': 0, 'playerScore5': 0, 'largestCriticalStrike': 0, 'perk0Var3': 0, 'perk2Var2': 0}}, {'spell1Id': 3, 'championId': 89, 'highestAchievedSeasonTier': 'UNRANKED', 'timeline': {'role': 'DUO_SUPPORT', 'damageTakenPerMinDeltas': {'0-10': 427.4, '10-20': 1160.2}, 'creepsPerMinDeltas': {'0-10': 1.4, '10-20': 2.2}, 'xpPerMinDeltas': {'0-10': 307.1, '10-20': 542.2}, 'damageTakenDiffPerMinDeltas': {'0-10': 11.899999999999977, '10-20': 167.54999999999995}, 'lane': 'BOTTOM', 'goldPerMinDeltas': {'0-10': 272.5, '10-20': 564.6}, 'participantId': 5, 'csDiffPerMinDeltas': {'0-10': 1.0999999999999999, '10-20': 2.6}, 'xpDiffPerMinDeltas': {'0-10': 84.40000000000002, '10-20': 247.10000000000002}}, 'teamId': 100, 'participantId': 5, 'spell2Id': 4, 'stats': {'neutralMinionsKilledTeamJungle': 0, 'magicDamageDealtToChampions': 4144, 'item3': 3025, 'firstTowerAssist': True, 'perk2Var3': 0, 'unrealKills': 0, 'perk5Var2': 0, 'trueDamageTaken': 2272, 'win': True, 'perk3': 8451, 'perk5Var1': 0, 'sightWardsBoughtInGame': 0, 'longestTimeSpentLiving': 828, 'firstInhibitorKill': False, 'timeCCingOthers': 38, 'totalDamageDealtToChampions': 7331, 'firstTowerKill': False, 'firstBloodAssist': False, 'combatPlayerScore': 0, 'playerScore1': 0, 'perk1Var1': 569, 'firstInhibitorAssist': False, 'visionWardsBoughtInGame': 0, 'perk4Var2': 0, 'largestMultiKill': 1, 'neutralMinionsKilledEnemyJungle': 0, 'totalTimeCrowdControlDealt': 69, 'item0': 2424, 'pentaKills': 0, 'firstBloodKill': False, 'perkSubStyle': 8300, 'wardsKilled': 0, 'trueDamageDealt': 7489, 'damageDealtToObjectives': 3008, 'perk1Var2': 0, 'playerScore7': 0, 'physicalDamageDealtToChampions': 3186, 'perk3Var2': 0, 'item2': 2065, 'tripleKills': 0, 'magicDamageDealt': 8493, 'perk1': 8473, 'magicalDamageTaken': 4246, 'totalPlayerScore': 0, 'perk2': 8444, 'perk1Var3': 0, 'deaths': 2, 'damageSelfMitigated': 12885, 'kills': 2, 'perk4': 8313, 'item5': 1033, 'playerScore6': 0, 'item4': 3009, 'playerScore8': 0, 'largestKillingSpree': 0, 'playerScore4': 0, 'turretKills': 1, 'quadraKills': 0, 'goldSpent': 8250, 'inhibitorKills': 0, 'visionScore': 10, 'playerScore3': 0, 'perk3Var1': 103, 'champLevel': 11, 'perkPrimaryStyle': 8400, 'physicalDamageTaken': 9358, 'totalScoreRank': 0, 'perk3Var3': 0, 'totalHeal': 2264, 'physicalDamageDealt': 10479, 'participantId': 5, 'killingSprees': 0, 'wardsPlaced': 6, 'perk0Var1': 638, 'perk2Var1': 1393, 'playerScore2': 0, 'perk5Var3': 0, 'perk5': 8347, 'totalDamageTaken': 15876, 'totalUnitsHealed': 4, 'goldEarned': 8872, 'totalMinionsKilled': 36, 'perk0Var2': 0, 'perk4Var3': 0, 'perk0': 8439, 'item1': 3401, 'neutralMinionsKilled': 0, 'assists': 19, 'trueDamageDealtToChampions': 0, 'damageDealtToTurrets': 2597, 'objectivePlayerScore': 0, 'perk4Var1': 0, 'totalDamageDealt': 26461, 'item6': 3364, 'playerScore0': 0, 'doubleKills': 0, 'playerScore9': 0, 'playerScore5': 0, 'largestCriticalStrike': 0, 'perk0Var3': 0, 'perk2Var2': 0}}, {'spell1Id': 4, 'championId': 63, 'highestAchievedSeasonTier': 'UNRANKED', 'timeline': {'role': 'DUO_SUPPORT', 'damageTakenPerMinDeltas': {'0-10': 391.4, '10-20': 727.6}, 'creepsPerMinDeltas': {'0-10': 0.30000000000000004, '10-20': 1.7000000000000002}, 'xpPerMinDeltas': {'0-10': 229.1, '10-20': 329.4}, 'damageTakenDiffPerMinDeltas': {'0-10': -11.899999999999977, '10-20': -167.54999999999995}, 'lane': 'BOTTOM', 'goldPerMinDeltas': {'0-10': 157.10000000000002, '10-20': 158.89999999999998}, 'participantId': 6, 'csDiffPerMinDeltas': {'0-10': -1.0999999999999999, '10-20': -2.6}, 'xpDiffPerMinDeltas': {'0-10': -84.40000000000002, '10-20': -247.10000000000002}}, 'teamId': 200, 'participantId': 6, 'spell2Id': 3, 'stats': {'neutralMinionsKilledTeamJungle': 0, 'magicDamageDealtToChampions': 11032, 'item3': 2003, 'firstTowerAssist': False, 'perk2Var3': 0, 'unrealKills': 0, 'perk5Var2': 0, 'trueDamageTaken': 1231, 'win': False, 'perk3': 8236, 'perk5Var1': 2, 'sightWardsBoughtInGame': 0, 'longestTimeSpentLiving': 427, 'firstInhibitorKill': False, 'timeCCingOthers': 5, 'totalDamageDealtToChampions': 11856, 'firstTowerKill': False, 'firstBloodAssist': False, 'combatPlayerScore': 0, 'playerScore1': 0, 'perk1Var1': 250, 'firstInhibitorAssist': False, 'visionWardsBoughtInGame': 0, 'perk4Var2': 0, 'largestMultiKill': 1, 'neutralMinionsKilledEnemyJungle': 0, 'totalTimeCrowdControlDealt': 14, 'item0': 1056, 'pentaKills': 0, 'firstBloodKill': False, 'perkSubStyle': 8100, 'wardsKilled': 0, 'trueDamageDealt': 3690, 'damageDealtToObjectives': 427, 'perk1Var2': 173, 'playerScore7': 0, 'physicalDamageDealtToChampions': 823, 'perk3Var2': 0, 'item2': 1001, 'tripleKills': 0, 'magicDamageDealt': 26248, 'perk1': 8226, 'magicalDamageTaken': 4577, 'totalPlayerScore': 0, 'perk2': 8210, 'perk1Var3': 0, 'deaths': 9, 'damageSelfMitigated': 3172, 'kills': 1, 'perk4': 8138, 'item5': 0, 'playerScore6': 0, 'item4': 1026, 'playerScore8': 0, 'largestKillingSpree': 0, 'playerScore4': 0, 'turretKills': 0, 'quadraKills': 0, 'goldSpent': 3050, 'inhibitorKills': 0, 'visionScore': 8, 'playerScore3': 0, 'perk3Var1': 24, 'champLevel': 9, 'perkPrimaryStyle': 8200, 'physicalDamageTaken': 5381, 'totalScoreRank': 0, 'perk3Var3': 0, 'totalHeal': 0, 'physicalDamageDealt': 4108, 'participantId': 6, 'killingSprees': 0, 'wardsPlaced': 7, 'perk0Var1': 862, 'perk2Var1': 0, 'playerScore2': 0, 'perk5Var3': 0, 'perk5': 8105, 'totalDamageTaken': 11190, 'totalUnitsHealed': 0, 'goldEarned': 3661, 'totalMinionsKilled': 20, 'perk0Var2': 0, 'perk4Var3': 0, 'perk0': 8229, 'item1': 3802, 'neutralMinionsKilled': 0, 'assists': 1, 'trueDamageDealtToChampions': 0, 'damageDealtToTurrets': 427, 'objectivePlayerScore': 0, 'perk4Var1': 3, 'totalDamageDealt': 34046, 'item6': 3340, 'playerScore0': 0, 'doubleKills': 0, 'playerScore9': 0, 'playerScore5': 0, 'largestCriticalStrike': 0, 'perk0Var3': 0, 'perk2Var2': 0}}, {'spell1Id': 4, 'championId': 150, 'highestAchievedSeasonTier': 'GOLD', 'timeline': {'role': 'DUO', 'damageTakenPerMinDeltas': {'0-10': 560, '10-20': 1302.7}, 'creepsPerMinDeltas': {'0-10': 4.7, '10-20': 4.8}, 'xpPerMinDeltas': {'0-10': 382.90000000000003, '10-20': 496}, 'goldPerMinDeltas': {'0-10': 274.5, '10-20': 327.4}, 'participantId': 7, 'lane': 'MIDDLE'}, 'teamId': 200, 'participantId': 7, 'spell2Id': 12, 'stats': {'neutralMinionsKilledTeamJungle': 0, 'magicDamageDealtToChampions': 1697, 'item3': 1057, 'firstTowerAssist': False, 'perk2Var3': 0, 'unrealKills': 0, 'perk5Var2': 0, 'trueDamageTaken': 174, 'win': False, 'perk3': 8236, 'perk5Var1': 391, 'sightWardsBoughtInGame': 0, 'longestTimeSpentLiving': 356, 'firstInhibitorKill': False, 'timeCCingOthers': 25, 'totalDamageDealtToChampions': 17618, 'firstTowerKill': False, 'firstBloodAssist': False, 'combatPlayerScore': 0, 'playerScore1': 0, 'perk1Var1': 464, 'firstInhibitorAssist': False, 'visionWardsBoughtInGame': 0, 'perk4Var2': 0, 'largestMultiKill': 2, 'neutralMinionsKilledEnemyJungle': 0, 'totalTimeCrowdControlDealt': 371, 'item0': 1055, 'pentaKills': 0, 'firstBloodKill': False, 'perkSubStyle': 8000, 'wardsKilled': 0, 'trueDamageDealt': 1600, 'damageDealtToObjectives': 87, 'perk1Var2': 0, 'playerScore7': 0, 'physicalDamageDealtToChampions': 15920, 'perk3Var2': 0, 'item2': 2003, 'tripleKills': 0, 'magicDamageDealt': 3938, 'perk1': 8224, 'magicalDamageTaken': 8846, 'totalPlayerScore': 0, 'perk2': 8234, 'perk1Var3': 0, 'deaths': 6, 'damageSelfMitigated': 11092, 'kills': 5, 'perk4': 9104, 'item5': 1042, 'playerScore6': 0, 'item4': 3111, 'playerScore8': 0, 'largestKillingSpree': 2, 'playerScore4': 0, 'turretKills': 0, 'quadraKills': 0, 'goldSpent': 6170, 'inhibitorKills': 0, 'visionScore': 7, 'playerScore3': 0, 'perk3Var1': 14, 'champLevel': 12, 'perkPrimaryStyle': 8200, 'physicalDamageTaken': 9606, 'totalScoreRank': 0, 'perk3Var3': 0, 'totalHeal': 0, 'physicalDamageDealt': 63356, 'participantId': 7, 'killingSprees': 1, 'wardsPlaced': 6, 'perk0Var1': 1220, 'perk2Var1': 29, 'playerScore2': 0, 'perk5Var3': 0, 'perk5': 8014, 'totalDamageTaken': 18627, 'totalUnitsHealed': 0, 'goldEarned': 6520, 'totalMinionsKilled': 95, 'perk0Var2': 0, 'perk4Var3': 0, 'perk0': 8214, 'item1': 3071, 'neutralMinionsKilled': 0, 'assists': 0, 'trueDamageDealtToChampions': 0, 'damageDealtToTurrets': 0, 'objectivePlayerScore': 0, 'perk4Var1': 0, 'totalDamageDealt': 68894, 'item6': 3363, 'playerScore0': 0, 'doubleKills': 1, 'playerScore9': 0, 'playerScore5': 0, 'largestCriticalStrike': 308, 'perk0Var3': 0, 'perk2Var2': 0}}, {'spell1Id': 4, 'championId': 222, 'highestAchievedSeasonTier': 'UNRANKED', 'timeline': {'role': 'DUO_CARRY', 'damageTakenPerMinDeltas': {'0-10': 452.9, '10-20': 715.9000000000001}, 'creepsPerMinDeltas': {'0-10': 5, '10-20': 4.9}, 'xpPerMinDeltas': {'0-10': 258.9, '10-20': 361.79999999999995}, 'damageTakenDiffPerMinDeltas': {'0-10': -11.899999999999977, '10-20': -167.54999999999995}, 'lane': 'BOTTOM', 'goldPerMinDeltas': {'0-10': 262.4, '10-20': 260.9}, 'participantId': 8, 'csDiffPerMinDeltas': {'0-10': -1.0999999999999999, '10-20': -2.6}, 'xpDiffPerMinDeltas': {'0-10': -84.40000000000002, '10-20': -247.10000000000002}}, 'teamId': 200, 'participantId': 8, 'spell2Id': 7, 'stats': {'neutralMinionsKilledTeamJungle': 0, 'magicDamageDealtToChampions': 153, 'item3': 1036, 'firstTowerAssist': False, 'perk2Var3': 0, 'unrealKills': 0, 'perk5Var2': 0, 'trueDamageTaken': 671, 'win': False, 'perk3': 8014, 'perk5Var1': 3, 'sightWardsBoughtInGame': 0, 'longestTimeSpentLiving': 279, 'firstInhibitorKill': False, 'timeCCingOthers': 11, 'totalDamageDealtToChampions': 5668, 'firstTowerKill': False, 'firstBloodAssist': False, 'combatPlayerScore': 0, 'playerScore1': 0, 'perk1Var1': 158, 'firstInhibitorAssist': False, 'visionWardsBoughtInGame': 0, 'perk4Var2': 0, 'largestMultiKill': 1, 'neutralMinionsKilledEnemyJungle': 0, 'totalTimeCrowdControlDealt': 165, 'item0': 1055, 'pentaKills': 0, 'firstBloodKill': False, 'perkSubStyle': 8100, 'wardsKilled': 0, 'trueDamageDealt': 2536, 'damageDealtToObjectives': 3547, 'perk1Var2': 0, 'playerScore7': 0, 'physicalDamageDealtToChampions': 5399, 'perk3Var2': 0, 'item2': 1053, 'tripleKills': 0, 'magicDamageDealt': 675, 'perk1': 9111, 'magicalDamageTaken': 5030, 'totalPlayerScore': 0, 'perk2': 9104, 'perk1Var3': 0, 'deaths': 7, 'damageSelfMitigated': 4182, 'kills': 2, 'perk4': 8139, 'item5': 1042, 'playerScore6': 0, 'item4': 3086, 'playerScore8': 0, 'largestKillingSpree': 0, 'playerScore4': 0, 'turretKills': 0, 'quadraKills': 0, 'goldSpent': 4450, 'inhibitorKills': 0, 'visionScore': 2, 'playerScore3': 0, 'perk3Var1': 89, 'champLevel': 10, 'perkPrimaryStyle': 8000, 'physicalDamageTaken': 5985, 'totalScoreRank': 0, 'perk3Var3': 0, 'totalHeal': 1597, 'physicalDamageDealt': 47366, 'participantId': 8, 'killingSprees': 0, 'wardsPlaced': 2, 'perk0Var1': 1, 'perk2Var1': 0, 'playerScore2': 0, 'perk5Var3': 0, 'perk5': 8135, 'totalDamageTaken': 11688, 'totalUnitsHealed': 3, 'goldEarned': 5734, 'totalMinionsKilled': 99, 'perk0Var2': 30, 'perk4Var3': 0, 'perk0': 8008, 'item1': 3006, 'neutralMinionsKilled': 0, 'assists': 2, 'trueDamageDealtToChampions': 116, 'damageDealtToTurrets': 1021, 'objectivePlayerScore': 0, 'perk4Var1': 419, 'totalDamageDealt': 50577, 'item6': 3340, 'playerScore0': 0, 'doubleKills': 0, 'playerScore9': 0, 'playerScore5': 0, 'largestCriticalStrike': 236, 'perk0Var3': 0, 'perk2Var2': 0}}, {'spell1Id': 4, 'championId': 86, 'highestAchievedSeasonTier': 'SILVER', 'timeline': {'role': 'DUO', 'damageTakenPerMinDeltas': {'0-10': 458.20000000000005, '10-20': 1135.9}, 'creepsPerMinDeltas': {'0-10': 7.7, '10-20': 5.800000000000001}, 'xpPerMinDeltas': {'0-10': 471, '10-20': 416.59999999999997}, 'goldPerMinDeltas': {'0-10': 277.3, '10-20': 307.79999999999995}, 'participantId': 9, 'lane': 'MIDDLE'}, 'teamId': 200, 'participantId': 9, 'spell2Id': 14, 'stats': {'neutralMinionsKilledTeamJungle': 4, 'magicDamageDealtToChampions': 801, 'item3': 3111, 'firstTowerAssist': False, 'perk2Var3': 0, 'unrealKills': 0, 'perk5Var2': 0, 'trueDamageTaken': 547, 'win': False, 'perk3': 8014, 'perk5Var1': 0, 'sightWardsBoughtInGame': 0, 'longestTimeSpentLiving': 978, 'firstInhibitorKill': False, 'timeCCingOthers': 9, 'totalDamageDealtToChampions': 5299, 'firstTowerKill': False, 'firstBloodAssist': False, 'combatPlayerScore': 0, 'playerScore1': 0, 'perk1Var1': 218, 'firstInhibitorAssist': False, 'visionWardsBoughtInGame': 0, 'perk4Var2': 0, 'largestMultiKill': 1, 'neutralMinionsKilledEnemyJungle': 0, 'totalTimeCrowdControlDealt': 79, 'item0': 2031, 'pentaKills': 0, 'firstBloodKill': False, 'perkSubStyle': 8400, 'wardsKilled': 0, 'trueDamageDealt': 905, 'damageDealtToObjectives': 957, 'perk1Var2': 0, 'playerScore7': 0, 'physicalDamageDealtToChampions': 3592, 'perk3Var2': 0, 'item2': 1036, 'tripleKills': 0, 'magicDamageDealt': 801, 'perk1': 9111, 'magicalDamageTaken': 7247, 'totalPlayerScore': 0, 'perk2': 9104, 'perk1Var3': 0, 'deaths': 2, 'damageSelfMitigated': 15348, 'kills': 1, 'perk4': 8473, 'item5': 1054, 'playerScore6': 0, 'item4': 1028, 'playerScore8': 0, 'largestKillingSpree': 0, 'playerScore4': 0, 'turretKills': 0, 'quadraKills': 0, 'goldSpent': 6233, 'inhibitorKills': 0, 'visionScore': 8, 'playerScore3': 0, 'perk3Var1': 80, 'champLevel': 12, 'perkPrimaryStyle': 8000, 'physicalDamageTaken': 8146, 'totalScoreRank': 0, 'perk3Var3': 0, 'totalHeal': 216, 'physicalDamageDealt': 63220, 'participantId': 9, 'killingSprees': 0, 'wardsPlaced': 6, 'perk0Var1': 68, 'perk2Var1': 14, 'playerScore2': 0, 'perk5Var3': 0, 'perk5': 8472, 'totalDamageTaken': 15941, 'totalUnitsHealed': 1, 'goldEarned': 6352, 'totalMinionsKilled': 135, 'perk0Var2': 0, 'perk4Var3': 0, 'perk0': 8010, 'item1': 3078, 'neutralMinionsKilled': 4, 'assists': 3, 'trueDamageDealtToChampions': 905, 'damageDealtToTurrets': 957, 'objectivePlayerScore': 0, 'perk4Var1': 479, 'totalDamageDealt': 64927, 'item6': 3340, 'playerScore0': 0, 'doubleKills': 0, 'playerScore9': 0, 'playerScore5': 0, 'largestCriticalStrike': 0, 'perk0Var3': 0, 'perk2Var2': 50}}, {'spell1Id': 11, 'championId': 24, 'highestAchievedSeasonTier': 'UNRANKED', 'timeline': {'role': 'NONE', 'damageTakenPerMinDeltas': {'0-10': 582.5999999999999, '10-20': 934.2}, 'creepsPerMinDeltas': {'0-10': 0, '10-20': 1.2}, 'xpPerMinDeltas': {'0-10': 275.1, '10-20': 296.5}, 'damageTakenDiffPerMinDeltas': {'0-10': -103.80000000000001, '10-20': 93.00000000000006}, 'lane': 'JUNGLE', 'goldPerMinDeltas': {'0-10': 262.6, '10-20': 220}, 'participantId': 10, 'csDiffPerMinDeltas': {'0-10': -1.3, '10-20': -2.6}, 'xpDiffPerMinDeltas': {'0-10': -123.89999999999999, '10-20': -224.10000000000002}}, 'teamId': 200, 'participantId': 10, 'spell2Id': 4, 'stats': {'neutralMinionsKilledTeamJungle': 35, 'magicDamageDealtToChampions': 1327, 'item3': 3101, 'firstTowerAssist': False, 'perk2Var3': 0, 'unrealKills': 0, 'perk5Var2': 0, 'trueDamageTaken': 1017, 'win': False, 'perk3': 8014, 'perk5Var1': 79, 'sightWardsBoughtInGame': 0, 'longestTimeSpentLiving': 262, 'firstInhibitorKill': False, 'timeCCingOthers': 13, 'totalDamageDealtToChampions': 5136, 'firstTowerKill': False, 'firstBloodAssist': False, 'combatPlayerScore': 0, 'playerScore1': 0, 'perk1Var1': 310, 'firstInhibitorAssist': False, 'visionWardsBoughtInGame': 0, 'perk4Var2': 0, 'largestMultiKill': 1, 'neutralMinionsKilledEnemyJungle': 0, 'totalTimeCrowdControlDealt': 275, 'item0': 3715, 'pentaKills': 0, 'firstBloodKill': False, 'perkSubStyle': 8300, 'wardsKilled': 0, 'trueDamageDealt': 4858, 'damageDealtToObjectives': 1472, 'perk1Var2': 516, 'playerScore7': 0, 'physicalDamageDealtToChampions': 3406, 'perk3Var2': 0, 'item2': 3111, 'tripleKills': 0, 'magicDamageDealt': 9205, 'perk1': 9101, 'magicalDamageTaken': 5380, 'totalPlayerScore': 0, 'perk2': 9104, 'perk1Var3': 0, 'deaths': 8, 'damageSelfMitigated': 8000, 'kills': 2, 'perk4': 8321, 'item5': 1027, 'playerScore6': 0, 'item4': 3044, 'playerScore8': 0, 'largestKillingSpree': 0, 'playerScore4': 0, 'turretKills': 0, 'quadraKills': 0, 'goldSpent': 4950, 'inhibitorKills': 0, 'visionScore': 9, 'playerScore3': 0, 'perk3Var1': 84, 'champLevel': 9, 'perkPrimaryStyle': 8000, 'physicalDamageTaken': 8770, 'totalScoreRank': 0, 'perk3Var3': 0, 'totalHeal': 2072, 'physicalDamageDealt': 34228, 'participantId': 10, 'killingSprees': 0, 'wardsPlaced': 6, 'perk0Var1': 0, 'perk2Var1': 0, 'playerScore2': 0, 'perk5Var3': 0, 'perk5': 8352, 'totalDamageTaken': 15168, 'totalUnitsHealed': 1, 'goldEarned': 5327, 'totalMinionsKilled': 12, 'perk0Var2': 40, 'perk4Var3': 0, 'perk0': 8008, 'item1': 2031, 'neutralMinionsKilled': 52, 'assists': 2, 'trueDamageDealtToChampions': 402, 'damageDealtToTurrets': 0, 'objectivePlayerScore': 0, 'perk4Var1': 6, 'totalDamageDealt': 48291, 'item6': 3340, 'playerScore0': 0, 'doubleKills': 0, 'playerScore9': 0, 'playerScore5': 0, 'largestCriticalStrike': 0, 'perk0Var3': 0, 'perk2Var2': 0}}], 'gameDuration': 1201, 'platformId': 'EUW1', 'mapId': 11, 'queueId': 430, 'gameVersion': '8.9.228.4283', 'gameType': 'MATCHED_GAME', 'gameId': 3628998680, 'teams': [{'win': 'Win', 'firstBaron': False, 'firstDragon': True, 'baronKills': 0, 'teamId': 100, 'riftHeraldKills': 1, 'firstTower': True, 'dragonKills': 2, 'firstInhibitor': True, 'towerKills': 11, 'bans': [], 'firstBlood': True, 'firstRiftHerald': True, 'vilemawKills': 0, 'dominionVictoryScore': 0, 'inhibitorKills': 3}, {'win': 'Fail', 'firstBaron': False, 'firstDragon': False, 'baronKills': 0, 'teamId': 200, 'riftHeraldKills': 0, 'firstTower': False, 'dragonKills': 0, 'firstInhibitor': False, 'towerKills': 0, 'bans': [], 'firstBlood': False, 'firstRiftHerald': False, 'vilemawKills': 0, 'dominionVictoryScore': 0, 'inhibitorKills': 0}], 'participantIdentities': [{'participantId': 1, 'player': {'accountId': 35658653, 'currentPlatformId': 'EUW1', 'currentAccountId': 35658653, 'platformId': 'EUW1', 'profileIcon': 3398, 'summonerId': 31968590, 'matchHistoryUri': '/v1/stats/player_history/EUW1/35658653', 'summonerName': 'Dimiitri'}}, {'participantId': 2, 'player': {'accountId': 33417939, 'currentPlatformId': 'EUW1', 'currentAccountId': 33417939, 'platformId': 'EUW1', 'profileIcon': 3398, 'summonerId': 29750979, 'matchHistoryUri': '/v1/stats/player_history/EUW1/33417939', 'summonerName': 'ODS Saig'}}, {'participantId': 3, 'player': {'accountId': 27156259, 'currentPlatformId': 'EUW1', 'currentAccountId': 27156259, 'platformId': 'EUW1', 'profileIcon': 543, 'summonerId': 23083632, 'matchHistoryUri': '/v1/stats/player_history/EUW1/27156259', 'summonerName': 'Wiwi Maggle'}}, {'participantId': 4, 'player': {'accountId': 26976384, 'currentPlatformId': 'EUW1', 'currentAccountId': 26976384, 'platformId': 'EUW1', 'profileIcon': 4, 'summonerId': 22939885, 'matchHistoryUri': '/v1/stats/player_history/EUW1/26976384', 'summonerName': 'Pierrot Maggle'}}, {'participantId': 5, 'player': {'accountId': 27695644, 'currentPlatformId': 'EUW1', 'currentAccountId': 27695644, 'platformId': 'EUW1', 'profileIcon': 666, 'summonerId': 23516141, 'matchHistoryUri': '/v1/stats/player_history/EUW1/27695644', 'summonerName': 'Canisback'}}, {'participantId': 6, 'player': {'accountId': 236888885, 'currentPlatformId': 'EUW1', 'currentAccountId': 236888885, 'platformId': 'EUW1', 'profileIcon': 7, 'summonerId': 104578418, 'matchHistoryUri': '/v1/stats/player_history/EUW1/236888885', 'summonerName': 'ElliEllipse'}}, {'participantId': 7, 'player': {'accountId': 227977474, 'currentPlatformId': 'EUW1', 'currentAccountId': 227977474, 'platformId': 'EUW1', 'profileIcon': 3398, 'summonerId': 87069655, 'matchHistoryUri': '/v1/stats/player_history/EUW1/227977474', 'summonerName': 'KhaleDhider'}}, {'participantId': 8, 'player': {'accountId': 32090416, 'currentPlatformId': 'EUW1', 'currentAccountId': 202593151, 'platformId': 'EUN1', 'profileIcon': 898, 'summonerId': 43519221, 'matchHistoryUri': '/v1/stats/player_history/EUN1/32090416', 'summonerName': 'Envoka'}}, {'participantId': 9, 'player': {'accountId': 233716974, 'currentPlatformId': 'EUW1', 'currentAccountId': 233716974, 'platformId': 'EUW1', 'profileIcon': 2094, 'summonerId': 101128752, 'matchHistoryUri': '/v1/stats/player_history/EUW1/233716974', 'summonerName': 'ThePoorDinosaur'}}, {'participantId': 10, 'player': {'accountId': 29147382, 'currentPlatformId': 'EUW1', 'currentAccountId': 29147382, 'platformId': 'EUW1', 'profileIcon': 3369, 'summonerId': 24657159, 'matchHistoryUri': '/v1/stats/player_history/EUW1/29147382', 'summonerName': 'Dhirn'}}], 'seasonId': 11, 'gameMode': 'CLASSIC', 'gameCreation': 1526098367922}\n"
     ]
    }
   ],
   "source": [
    "name = \"Canisback\"\n",
    "\n",
    "loop = asyncio.get_event_loop()  \n",
    "\n",
    "(summonerId, accountId) = loop.run_until_complete(getSummonerId(name))\n",
    "gamesDataRaw = loop.run_until_complete(getRecentMatches(accountId))\n",
    "print(gamesDataRaw[0])"
   ]
  },
  {
   "cell_type": "markdown",
   "metadata": {},
   "source": [
    "The first step in this analysis is to figure out what is the participantId of the targeted player."
   ]
  },
  {
   "cell_type": "code",
   "execution_count": 4,
   "metadata": {},
   "outputs": [
    {
     "data": {
      "text/plain": [
       "5"
      ]
     },
     "execution_count": 4,
     "metadata": {},
     "output_type": "execute_result"
    }
   ],
   "source": [
    "def getParticipantIdFromAccountId(game,accountId):\n",
    "    for participant in game['participantIdentities']:\n",
    "        if participant['player']['currentAccountId'] == accountId:\n",
    "            return participant['participantId']\n",
    "        \n",
    "participantId = getParticipantIdFromAccountId(gamesDataRaw[0],accountId)\n",
    "participantId"
   ]
  },
  {
   "cell_type": "markdown",
   "metadata": {},
   "source": [
    "Now our targeted data are champion played by the player, and team composition. First, we get to now what champion has our player and in which team he is, and if he won."
   ]
  },
  {
   "cell_type": "code",
   "execution_count": 5,
   "metadata": {},
   "outputs": [
    {
     "name": "stdout",
     "output_type": "stream",
     "text": [
      "100 89 True\n"
     ]
    }
   ],
   "source": [
    "def getTeamAndChampion(game, participantId):\n",
    "    for participant in game['participants']:\n",
    "        if participant['participantId'] == participantId:\n",
    "            return participant['teamId'],participant['championId'],participant['stats']['win']\n",
    "\n",
    "teamId, championId, win = getTeamAndChampion(gamesDataRaw[0], participantId)\n",
    "print(teamId, championId, win)"
   ]
  },
  {
   "cell_type": "markdown",
   "metadata": {},
   "source": [
    "A little trick to know for teamId is that any summoner with participantId from 1 to 5 is in team 100 and from 6 to 10 in team 200, but it's only for 5v5 games."
   ]
  },
  {
   "cell_type": "markdown",
   "metadata": {},
   "source": [
    "Next is getting team composition."
   ]
  },
  {
   "cell_type": "code",
   "execution_count": 6,
   "metadata": {},
   "outputs": [
    {
     "data": {
      "text/plain": [
       "{100: [11, 110, 90, 31, 89], 200: [63, 150, 222, 86, 24]}"
      ]
     },
     "execution_count": 6,
     "metadata": {},
     "output_type": "execute_result"
    }
   ],
   "source": [
    "def getTeamComposition(game):\n",
    "    #Create an array for each team\n",
    "    compositions = {100:[],200:[]}\n",
    "    for participant in game['participants']:\n",
    "        compositions[participant['teamId']].append(participant['championId'])\n",
    "    return compositions\n",
    "\n",
    "compositions = getTeamComposition(gamesDataRaw[0])\n",
    "compositions"
   ]
  },
  {
   "cell_type": "markdown",
   "metadata": {},
   "source": [
    "Now that we have all team compositions, we would want to have their name instead of championId. Let's use ddragon to achieve that by creating a championId=>name dictionnary"
   ]
  },
  {
   "cell_type": "code",
   "execution_count": 7,
   "metadata": {},
   "outputs": [
    {
     "data": {
      "text/plain": [
       "{1: 'Annie',\n",
       " 2: 'Olaf',\n",
       " 3: 'Galio',\n",
       " 4: 'Twisted Fate',\n",
       " 5: 'Xin Zhao',\n",
       " 6: 'Urgot',\n",
       " 7: 'LeBlanc',\n",
       " 8: 'Vladimir',\n",
       " 9: 'Fiddlesticks',\n",
       " 10: 'Kayle',\n",
       " 11: 'Master Yi',\n",
       " 12: 'Alistar',\n",
       " 13: 'Ryze',\n",
       " 14: 'Sion',\n",
       " 15: 'Sivir',\n",
       " 16: 'Soraka',\n",
       " 17: 'Teemo',\n",
       " 18: 'Tristana',\n",
       " 19: 'Warwick',\n",
       " 20: 'Nunu',\n",
       " 21: 'Miss Fortune',\n",
       " 22: 'Ashe',\n",
       " 23: 'Tryndamere',\n",
       " 24: 'Jax',\n",
       " 25: 'Morgana',\n",
       " 26: 'Zilean',\n",
       " 27: 'Singed',\n",
       " 28: 'Evelynn',\n",
       " 29: 'Twitch',\n",
       " 30: 'Karthus',\n",
       " 31: \"Cho'Gath\",\n",
       " 32: 'Amumu',\n",
       " 33: 'Rammus',\n",
       " 34: 'Anivia',\n",
       " 35: 'Shaco',\n",
       " 36: 'Dr. Mundo',\n",
       " 37: 'Sona',\n",
       " 38: 'Kassadin',\n",
       " 39: 'Irelia',\n",
       " 40: 'Janna',\n",
       " 41: 'Gangplank',\n",
       " 42: 'Corki',\n",
       " 43: 'Karma',\n",
       " 44: 'Taric',\n",
       " 45: 'Veigar',\n",
       " 48: 'Trundle',\n",
       " 50: 'Swain',\n",
       " 51: 'Caitlyn',\n",
       " 53: 'Blitzcrank',\n",
       " 54: 'Malphite',\n",
       " 55: 'Katarina',\n",
       " 56: 'Nocturne',\n",
       " 57: 'Maokai',\n",
       " 58: 'Renekton',\n",
       " 59: 'Jarvan IV',\n",
       " 60: 'Elise',\n",
       " 61: 'Orianna',\n",
       " 62: 'Wukong',\n",
       " 63: 'Brand',\n",
       " 64: 'Lee Sin',\n",
       " 67: 'Vayne',\n",
       " 68: 'Rumble',\n",
       " 69: 'Cassiopeia',\n",
       " 72: 'Skarner',\n",
       " 74: 'Heimerdinger',\n",
       " 75: 'Nasus',\n",
       " 76: 'Nidalee',\n",
       " 77: 'Udyr',\n",
       " 78: 'Poppy',\n",
       " 79: 'Gragas',\n",
       " 80: 'Pantheon',\n",
       " 81: 'Ezreal',\n",
       " 82: 'Mordekaiser',\n",
       " 83: 'Yorick',\n",
       " 84: 'Akali',\n",
       " 85: 'Kennen',\n",
       " 86: 'Garen',\n",
       " 89: 'Leona',\n",
       " 90: 'Malzahar',\n",
       " 91: 'Talon',\n",
       " 92: 'Riven',\n",
       " 96: \"Kog'Maw\",\n",
       " 98: 'Shen',\n",
       " 99: 'Lux',\n",
       " 101: 'Xerath',\n",
       " 102: 'Shyvana',\n",
       " 103: 'Ahri',\n",
       " 104: 'Graves',\n",
       " 105: 'Fizz',\n",
       " 106: 'Volibear',\n",
       " 107: 'Rengar',\n",
       " 110: 'Varus',\n",
       " 111: 'Nautilus',\n",
       " 112: 'Viktor',\n",
       " 113: 'Sejuani',\n",
       " 114: 'Fiora',\n",
       " 115: 'Ziggs',\n",
       " 117: 'Lulu',\n",
       " 119: 'Draven',\n",
       " 120: 'Hecarim',\n",
       " 121: \"Kha'Zix\",\n",
       " 122: 'Darius',\n",
       " 126: 'Jayce',\n",
       " 127: 'Lissandra',\n",
       " 131: 'Diana',\n",
       " 133: 'Quinn',\n",
       " 134: 'Syndra',\n",
       " 136: 'Aurelion Sol',\n",
       " 141: 'Kayn',\n",
       " 142: 'Zoe',\n",
       " 143: 'Zyra',\n",
       " 145: \"Kai'Sa\",\n",
       " 150: 'Gnar',\n",
       " 154: 'Zac',\n",
       " 157: 'Yasuo',\n",
       " 161: \"Vel'Koz\",\n",
       " 163: 'Taliyah',\n",
       " 164: 'Camille',\n",
       " 201: 'Braum',\n",
       " 202: 'Jhin',\n",
       " 203: 'Kindred',\n",
       " 222: 'Jinx',\n",
       " 223: 'Tahm Kench',\n",
       " 236: 'Lucian',\n",
       " 238: 'Zed',\n",
       " 240: 'Kled',\n",
       " 245: 'Ekko',\n",
       " 254: 'Vi',\n",
       " 266: 'Aatrox',\n",
       " 267: 'Nami',\n",
       " 268: 'Azir',\n",
       " 412: 'Thresh',\n",
       " 420: 'Illaoi',\n",
       " 421: \"Rek'Sai\",\n",
       " 427: 'Ivern',\n",
       " 429: 'Kalista',\n",
       " 432: 'Bard',\n",
       " 497: 'Rakan',\n",
       " 498: 'Xayah',\n",
       " 516: 'Ornn'}"
      ]
     },
     "execution_count": 7,
     "metadata": {},
     "output_type": "execute_result"
    }
   ],
   "source": [
    "import requests, json\n",
    "response = requests.get('http://ddragon.leagueoflegends.com/cdn/8.9.1/data/en_US/champion.json')\n",
    "champonRawData = json.loads(response.text)\n",
    "\n",
    "championIdToName = {}\n",
    "for key,champion in champonRawData['data'].items():\n",
    "    championIdToName[int(champion['key'])] = champion['name']\n",
    "championIdToName"
   ]
  },
  {
   "cell_type": "code",
   "execution_count": 8,
   "metadata": {},
   "outputs": [
    {
     "data": {
      "text/plain": [
       "'Leona'"
      ]
     },
     "execution_count": 8,
     "metadata": {},
     "output_type": "execute_result"
    }
   ],
   "source": [
    "playerChampion = championIdToName[championId]\n",
    "playerChampion"
   ]
  },
  {
   "cell_type": "code",
   "execution_count": 9,
   "metadata": {},
   "outputs": [
    {
     "data": {
      "text/plain": [
       "['Master Yi', 'Varus', 'Malzahar', \"Cho'Gath\", 'Leona']"
      ]
     },
     "execution_count": 9,
     "metadata": {},
     "output_type": "execute_result"
    }
   ],
   "source": [
    "teamComposition = [championIdToName[chId] for chId in compositions[teamId]]\n",
    "teamComposition"
   ]
  },
  {
   "cell_type": "code",
   "execution_count": 10,
   "metadata": {},
   "outputs": [
    {
     "data": {
      "text/plain": [
       "['Brand', 'Gnar', 'Jinx', 'Garen', 'Jax']"
      ]
     },
     "execution_count": 10,
     "metadata": {},
     "output_type": "execute_result"
    }
   ],
   "source": [
    "enemyTeamComposition = [championIdToName[chId] for chId in compositions[100 if teamId==200 else 200]]\n",
    "enemyTeamComposition"
   ]
  },
  {
   "cell_type": "markdown",
   "metadata": {},
   "source": [
    "You can also transform the array in a single string"
   ]
  },
  {
   "cell_type": "code",
   "execution_count": 11,
   "metadata": {},
   "outputs": [
    {
     "data": {
      "text/plain": [
       "\"Master Yi/Varus/Malzahar/Cho'Gath/Leona\""
      ]
     },
     "execution_count": 11,
     "metadata": {},
     "output_type": "execute_result"
    }
   ],
   "source": [
    "\"/\".join(teamComposition)"
   ]
  },
  {
   "cell_type": "code",
   "execution_count": 12,
   "metadata": {},
   "outputs": [
    {
     "data": {
      "text/plain": [
       "'Brand/Gnar/Jinx/Garen/Jax'"
      ]
     },
     "execution_count": 12,
     "metadata": {},
     "output_type": "execute_result"
    }
   ],
   "source": [
    "\"/\".join(enemyTeamComposition)"
   ]
  },
  {
   "cell_type": "markdown",
   "metadata": {},
   "source": [
    "Next step is getting a list of items the player had. In the same way we get champion names, we need items name too."
   ]
  },
  {
   "cell_type": "code",
   "execution_count": 13,
   "metadata": {},
   "outputs": [
    {
     "data": {
      "text/plain": [
       "\"Broken Stopwatch / Remnant of the Aspect / Shurelya's Reverie / Iceborn Gauntlet / Boots of Swiftness / Null-Magic Mantle / Oracle Lens\""
      ]
     },
     "execution_count": 13,
     "metadata": {},
     "output_type": "execute_result"
    }
   ],
   "source": [
    "response = requests.get('http://ddragon.leagueoflegends.com/cdn/8.9.1/data/en_US/item.json')\n",
    "itemRawData = json.loads(response.text)\n",
    "\n",
    "itemIdToName = {}\n",
    "for key,item in itemRawData['data'].items():\n",
    "    itemIdToName[int(key)] = item['name']\n",
    "\n",
    "def getItemList(game, participantId):\n",
    "    for participant in game['participants']:\n",
    "        if participant['participantId'] == participantId:\n",
    "            itemsList = []\n",
    "            for i in range(0,7):\n",
    "                if not participant['stats']['item'+str(i)] == 0:\n",
    "                    itemsList.append(itemIdToName[participant['stats']['item'+str(i)]])\n",
    "            return \" / \".join(itemsList)\n",
    "getItemList(gamesDataRaw[0], participantId)"
   ]
  },
  {
   "cell_type": "markdown",
   "metadata": {},
   "source": [
    "Add some other data like patch and date"
   ]
  },
  {
   "cell_type": "code",
   "execution_count": 14,
   "metadata": {},
   "outputs": [
    {
     "data": {
      "text/plain": [
       "'8.9'"
      ]
     },
     "execution_count": 14,
     "metadata": {},
     "output_type": "execute_result"
    }
   ],
   "source": [
    "def getPatch(game):\n",
    "    #Game version number contains minor versions, only take the two major ones.\n",
    "    return \".\".join(game['gameVersion'].split(\".\")[:2])\n",
    "getPatch(gamesDataRaw[0])"
   ]
  },
  {
   "cell_type": "code",
   "execution_count": 15,
   "metadata": {},
   "outputs": [
    {
     "data": {
      "text/plain": [
       "'2018/05/12'"
      ]
     },
     "execution_count": 15,
     "metadata": {},
     "output_type": "execute_result"
    }
   ],
   "source": [
    "import datetime\n",
    "\n",
    "def getDate(game):\n",
    "    return datetime.datetime.fromtimestamp(int(game[\"gameCreation\"]/1000)).strftime('%Y/%m/%d')\n",
    "\n",
    "getDate(gamesDataRaw[0])"
   ]
  },
  {
   "cell_type": "markdown",
   "metadata": {},
   "source": [
    "Now that we have all the data we need (for now), let's generalize it for every game we get"
   ]
  },
  {
   "cell_type": "code",
   "execution_count": 16,
   "metadata": {},
   "outputs": [
    {
     "data": {
      "text/plain": [
       "[{'champion': 'Leona',\n",
       "  'date': '2018/05/12',\n",
       "  'enemyTeamComposition': 'Brand/Gnar/Jinx/Garen/Jax',\n",
       "  'patch': '8.9',\n",
       "  'teamComposition': \"Master Yi/Varus/Malzahar/Cho'Gath/Leona\",\n",
       "  'win': True},\n",
       " {'champion': 'Leona',\n",
       "  'date': '2018/05/12',\n",
       "  'enemyTeamComposition': 'Yorick/Janna/Jarvan IV/Miss Fortune/Riven',\n",
       "  'patch': '8.9',\n",
       "  'teamComposition': 'Varus/Lux/Trundle/Leona/Tryndamere',\n",
       "  'win': False},\n",
       " {'champion': 'Leona',\n",
       "  'date': '2018/05/12',\n",
       "  'enemyTeamComposition': 'Jinx/Janna/Zed/Shyvana/Jax',\n",
       "  'patch': '8.9',\n",
       "  'teamComposition': 'Irelia/Varus/Warwick/Veigar/Leona',\n",
       "  'win': True},\n",
       " {'champion': 'Leona',\n",
       "  'date': '2018/05/12',\n",
       "  'enemyTeamComposition': 'Garen/Shen/Vi/LeBlanc/Graves',\n",
       "  'patch': '8.9',\n",
       "  'teamComposition': 'Yasuo/Varus/Warwick/Veigar/Leona',\n",
       "  'win': True},\n",
       " {'champion': 'Leona',\n",
       "  'date': '2018/05/12',\n",
       "  'enemyTeamComposition': 'Vladimir/Kennen/Master Yi/Lux/Nidalee',\n",
       "  'patch': '8.9',\n",
       "  'teamComposition': 'Varus/Warwick/Jax/Leona/Veigar',\n",
       "  'win': True},\n",
       " {'champion': 'Leona',\n",
       "  'date': '2018/05/12',\n",
       "  'enemyTeamComposition': 'Nunu/Xin Zhao/Caitlyn/Thresh/Jax',\n",
       "  'patch': '8.9',\n",
       "  'teamComposition': 'Yasuo/Varus/Nasus/Jax/Leona',\n",
       "  'win': True},\n",
       " {'champion': 'Malzahar',\n",
       "  'date': '2018/05/12',\n",
       "  'enemyTeamComposition': 'Ryze/Dr. Mundo/Varus/Blitzcrank/Lee Sin',\n",
       "  'patch': '8.9',\n",
       "  'teamComposition': 'Ezreal/Graves/Darius/Blitzcrank/Malzahar',\n",
       "  'win': False},\n",
       " {'champion': 'Ezreal',\n",
       "  'date': '2018/05/12',\n",
       "  'enemyTeamComposition': 'Karma/Varus/Amumu/Renekton/Zoe',\n",
       "  'patch': '8.9',\n",
       "  'teamComposition': \"Vel'Koz/Kassadin/Darius/Jarvan IV/Ezreal\",\n",
       "  'win': False},\n",
       " {'champion': 'Caitlyn',\n",
       "  'date': '2018/05/12',\n",
       "  'enemyTeamComposition': 'Jayce/Vayne/Alistar/Master Yi/Kassadin',\n",
       "  'patch': '8.9',\n",
       "  'teamComposition': \"Warwick/Cho'Gath/Brand/Garen/Caitlyn\",\n",
       "  'win': False},\n",
       " {'champion': 'Annie',\n",
       "  'date': '2018/05/12',\n",
       "  'enemyTeamComposition': 'Warwick/Thresh/Wukong/Blitzcrank/Fizz',\n",
       "  'patch': '8.9',\n",
       "  'teamComposition': 'Xin Zhao/Jhin/Darius/Brand/Annie',\n",
       "  'win': False}]"
      ]
     },
     "execution_count": 16,
     "metadata": {},
     "output_type": "execute_result"
    }
   ],
   "source": [
    "gameInformationList = []\n",
    "\n",
    "for game in gamesDataRaw:\n",
    "    #Get the information\n",
    "    participantId = getParticipantIdFromAccountId(game,accountId)\n",
    "    teamId, championId, win = getTeamAndChampion(game, participantId)\n",
    "    compositions = getTeamComposition(game)\n",
    "    \n",
    "    #Select information you want to show\n",
    "    gameInformation = {}\n",
    "    gameInformation['win'] = win\n",
    "    gameInformation['champion'] = championIdToName[championId]\n",
    "    gameInformation['patch'] = getPatch(game)\n",
    "    gameInformation['date'] = getDate(game)\n",
    "    gameInformation['teamComposition'] = \"/\".join([championIdToName[chId] for chId in compositions[teamId]])\n",
    "    gameInformation['enemyTeamComposition'] = \"/\".join([championIdToName[chId] for chId in compositions[100 if teamId==200 else 200]])\n",
    "    #Add the row to the list\n",
    "    gameInformationList.append(gameInformation)\n",
    "\n",
    "gameInformationList"
   ]
  },
  {
   "cell_type": "markdown",
   "metadata": {},
   "source": [
    "Great, you have your data! I recommend you to use pandas to display nd manipulate the data easily"
   ]
  },
  {
   "cell_type": "code",
   "execution_count": 17,
   "metadata": {},
   "outputs": [
    {
     "data": {
      "text/html": [
       "<div>\n",
       "<style>\n",
       "    .dataframe thead tr:only-child th {\n",
       "        text-align: right;\n",
       "    }\n",
       "\n",
       "    .dataframe thead th {\n",
       "        text-align: left;\n",
       "    }\n",
       "\n",
       "    .dataframe tbody tr th {\n",
       "        vertical-align: top;\n",
       "    }\n",
       "</style>\n",
       "<table border=\"1\" class=\"dataframe\">\n",
       "  <thead>\n",
       "    <tr style=\"text-align: right;\">\n",
       "      <th></th>\n",
       "      <th>champion</th>\n",
       "      <th>date</th>\n",
       "      <th>enemyTeamComposition</th>\n",
       "      <th>patch</th>\n",
       "      <th>teamComposition</th>\n",
       "      <th>win</th>\n",
       "    </tr>\n",
       "  </thead>\n",
       "  <tbody>\n",
       "    <tr>\n",
       "      <th>0</th>\n",
       "      <td>Leona</td>\n",
       "      <td>2018/05/12</td>\n",
       "      <td>Brand/Gnar/Jinx/Garen/Jax</td>\n",
       "      <td>8.9</td>\n",
       "      <td>Master Yi/Varus/Malzahar/Cho'Gath/Leona</td>\n",
       "      <td>True</td>\n",
       "    </tr>\n",
       "    <tr>\n",
       "      <th>1</th>\n",
       "      <td>Leona</td>\n",
       "      <td>2018/05/12</td>\n",
       "      <td>Yorick/Janna/Jarvan IV/Miss Fortune/Riven</td>\n",
       "      <td>8.9</td>\n",
       "      <td>Varus/Lux/Trundle/Leona/Tryndamere</td>\n",
       "      <td>False</td>\n",
       "    </tr>\n",
       "    <tr>\n",
       "      <th>2</th>\n",
       "      <td>Leona</td>\n",
       "      <td>2018/05/12</td>\n",
       "      <td>Jinx/Janna/Zed/Shyvana/Jax</td>\n",
       "      <td>8.9</td>\n",
       "      <td>Irelia/Varus/Warwick/Veigar/Leona</td>\n",
       "      <td>True</td>\n",
       "    </tr>\n",
       "    <tr>\n",
       "      <th>3</th>\n",
       "      <td>Leona</td>\n",
       "      <td>2018/05/12</td>\n",
       "      <td>Garen/Shen/Vi/LeBlanc/Graves</td>\n",
       "      <td>8.9</td>\n",
       "      <td>Yasuo/Varus/Warwick/Veigar/Leona</td>\n",
       "      <td>True</td>\n",
       "    </tr>\n",
       "    <tr>\n",
       "      <th>4</th>\n",
       "      <td>Leona</td>\n",
       "      <td>2018/05/12</td>\n",
       "      <td>Vladimir/Kennen/Master Yi/Lux/Nidalee</td>\n",
       "      <td>8.9</td>\n",
       "      <td>Varus/Warwick/Jax/Leona/Veigar</td>\n",
       "      <td>True</td>\n",
       "    </tr>\n",
       "    <tr>\n",
       "      <th>5</th>\n",
       "      <td>Leona</td>\n",
       "      <td>2018/05/12</td>\n",
       "      <td>Nunu/Xin Zhao/Caitlyn/Thresh/Jax</td>\n",
       "      <td>8.9</td>\n",
       "      <td>Yasuo/Varus/Nasus/Jax/Leona</td>\n",
       "      <td>True</td>\n",
       "    </tr>\n",
       "    <tr>\n",
       "      <th>6</th>\n",
       "      <td>Malzahar</td>\n",
       "      <td>2018/05/12</td>\n",
       "      <td>Ryze/Dr. Mundo/Varus/Blitzcrank/Lee Sin</td>\n",
       "      <td>8.9</td>\n",
       "      <td>Ezreal/Graves/Darius/Blitzcrank/Malzahar</td>\n",
       "      <td>False</td>\n",
       "    </tr>\n",
       "    <tr>\n",
       "      <th>7</th>\n",
       "      <td>Ezreal</td>\n",
       "      <td>2018/05/12</td>\n",
       "      <td>Karma/Varus/Amumu/Renekton/Zoe</td>\n",
       "      <td>8.9</td>\n",
       "      <td>Vel'Koz/Kassadin/Darius/Jarvan IV/Ezreal</td>\n",
       "      <td>False</td>\n",
       "    </tr>\n",
       "    <tr>\n",
       "      <th>8</th>\n",
       "      <td>Caitlyn</td>\n",
       "      <td>2018/05/12</td>\n",
       "      <td>Jayce/Vayne/Alistar/Master Yi/Kassadin</td>\n",
       "      <td>8.9</td>\n",
       "      <td>Warwick/Cho'Gath/Brand/Garen/Caitlyn</td>\n",
       "      <td>False</td>\n",
       "    </tr>\n",
       "    <tr>\n",
       "      <th>9</th>\n",
       "      <td>Annie</td>\n",
       "      <td>2018/05/12</td>\n",
       "      <td>Warwick/Thresh/Wukong/Blitzcrank/Fizz</td>\n",
       "      <td>8.9</td>\n",
       "      <td>Xin Zhao/Jhin/Darius/Brand/Annie</td>\n",
       "      <td>False</td>\n",
       "    </tr>\n",
       "  </tbody>\n",
       "</table>\n",
       "</div>"
      ],
      "text/plain": [
       "   champion        date                       enemyTeamComposition patch  \\\n",
       "0     Leona  2018/05/12                  Brand/Gnar/Jinx/Garen/Jax   8.9   \n",
       "1     Leona  2018/05/12  Yorick/Janna/Jarvan IV/Miss Fortune/Riven   8.9   \n",
       "2     Leona  2018/05/12                 Jinx/Janna/Zed/Shyvana/Jax   8.9   \n",
       "3     Leona  2018/05/12               Garen/Shen/Vi/LeBlanc/Graves   8.9   \n",
       "4     Leona  2018/05/12      Vladimir/Kennen/Master Yi/Lux/Nidalee   8.9   \n",
       "5     Leona  2018/05/12           Nunu/Xin Zhao/Caitlyn/Thresh/Jax   8.9   \n",
       "6  Malzahar  2018/05/12    Ryze/Dr. Mundo/Varus/Blitzcrank/Lee Sin   8.9   \n",
       "7    Ezreal  2018/05/12             Karma/Varus/Amumu/Renekton/Zoe   8.9   \n",
       "8   Caitlyn  2018/05/12     Jayce/Vayne/Alistar/Master Yi/Kassadin   8.9   \n",
       "9     Annie  2018/05/12      Warwick/Thresh/Wukong/Blitzcrank/Fizz   8.9   \n",
       "\n",
       "                            teamComposition    win  \n",
       "0   Master Yi/Varus/Malzahar/Cho'Gath/Leona   True  \n",
       "1        Varus/Lux/Trundle/Leona/Tryndamere  False  \n",
       "2         Irelia/Varus/Warwick/Veigar/Leona   True  \n",
       "3          Yasuo/Varus/Warwick/Veigar/Leona   True  \n",
       "4            Varus/Warwick/Jax/Leona/Veigar   True  \n",
       "5               Yasuo/Varus/Nasus/Jax/Leona   True  \n",
       "6  Ezreal/Graves/Darius/Blitzcrank/Malzahar  False  \n",
       "7  Vel'Koz/Kassadin/Darius/Jarvan IV/Ezreal  False  \n",
       "8      Warwick/Cho'Gath/Brand/Garen/Caitlyn  False  \n",
       "9          Xin Zhao/Jhin/Darius/Brand/Annie  False  "
      ]
     },
     "execution_count": 17,
     "metadata": {},
     "output_type": "execute_result"
    }
   ],
   "source": [
    "import pandas as pd\n",
    "df = pd.DataFrame(gameInformationList)\n",
    "df"
   ]
  },
  {
   "cell_type": "code",
   "execution_count": null,
   "metadata": {
    "collapsed": true
   },
   "outputs": [],
   "source": []
  }
 ],
 "metadata": {
  "kernelspec": {
   "display_name": "Python 3",
   "language": "python",
   "name": "python3"
  },
  "language_info": {
   "codemirror_mode": {
    "name": "ipython",
    "version": 3
   },
   "file_extension": ".py",
   "mimetype": "text/x-python",
   "name": "python",
   "nbconvert_exporter": "python",
   "pygments_lexer": "ipython3",
   "version": "3.5.4"
  }
 },
 "nbformat": 4,
 "nbformat_minor": 2
}
